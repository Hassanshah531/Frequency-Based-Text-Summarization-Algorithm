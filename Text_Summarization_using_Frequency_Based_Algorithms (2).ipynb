{
  "nbformat": 4,
  "nbformat_minor": 0,
  "metadata": {
    "colab": {
      "provenance": [],
      "collapsed_sections": []
    },
    "kernelspec": {
      "name": "python3",
      "display_name": "Python 3"
    },
    "language_info": {
      "name": "python"
    }
  },
  "cells": [
    {
      "cell_type": "code",
      "metadata": {
        "id": "RgcnWwAarvjx",
        "colab": {
          "base_uri": "https://localhost:8080/"
        },
        "outputId": "0f48098a-e848-47ce-8e76-cff7d6acbee3"
      },
      "source": [
        "import os\n",
        "import pandas as pd\n",
        "import numpy as np\n",
        "import matplotlib.pyplot as plt\n",
        "import seaborn as sns\n",
        "import nltk\n",
        "import string\n",
        "import collections\n",
        "nltk.download(\"stopwords\")\n",
        "nltk.download(\"punkt\")\n",
        "import warnings\n",
        "warnings.filterwarnings(\"ignore\")"
      ],
      "execution_count": 1,
      "outputs": [
        {
          "output_type": "stream",
          "name": "stderr",
          "text": [
            "[nltk_data] Downloading package stopwords to /root/nltk_data...\n",
            "[nltk_data]   Unzipping corpora/stopwords.zip.\n",
            "[nltk_data] Downloading package punkt to /root/nltk_data...\n",
            "[nltk_data]   Unzipping tokenizers/punkt.zip.\n"
          ]
        }
      ]
    },
    {
      "cell_type": "code",
      "metadata": {
        "id": "265n3E-pxI-r"
      },
      "source": [
        "text='''\n",
        " Artificial intelligence is human like intelligence. It is the study of intelligent artificial agents. \n",
        " Science and engineering to produce intelligent machines. Solve problems and have intelligence. Related \n",
        " to intelligent behavior. Developing of reasoning machines. Learn from mistakes and successes. Artificial\n",
        " intelligence is related to reasoning in everyday situations.\n",
        "'''"
      ],
      "execution_count": 2,
      "outputs": []
    },
    {
      "cell_type": "code",
      "metadata": {
        "id": "wbpUTCJ4xJDB"
      },
      "source": [
        "def clean(text):\n",
        "  to_lower=' '.join([i.lower() for i in nltk.tokenize.word_tokenize(text)])\n",
        "  rem_punc=''.join([i for i in to_lower if i not in string.punctuation])\n",
        "  return ' '.join([i for i in nltk.tokenize.word_tokenize(rem_punc) if i not in nltk.corpus.stopwords.words(\"english\")])"
      ],
      "execution_count": 3,
      "outputs": []
    },
    {
      "cell_type": "code",
      "metadata": {
        "id": "hu5Htx2UxJIF"
      },
      "source": [
        "data=pd.DataFrame({\"sent\":nltk.tokenize.sent_tokenize(text)})\n"
      ],
      "execution_count": 4,
      "outputs": []
    },
    {
      "cell_type": "code",
      "metadata": {
        "colab": {
          "base_uri": "https://localhost:8080/",
          "height": 300
        },
        "id": "850a-KdCypnO",
        "outputId": "a44d26b6-63d1-40be-ef6a-2f23034ce307"
      },
      "source": [
        "data"
      ],
      "execution_count": 5,
      "outputs": [
        {
          "output_type": "execute_result",
          "data": {
            "text/plain": [
              "                                                sent\n",
              "0  \\n Artificial intelligence is human like intel...\n",
              "1  It is the study of intelligent artificial agents.\n",
              "2  Science and engineering to produce \\nintellige...\n",
              "3              Solve problems and have intelligence.\n",
              "4                 Related to \\nintelligent behavior.\n",
              "5                  Developing of reasoning machines.\n",
              "6               Learn from \\nmistakes and successes.\n",
              "7  Artificial intelligence is related to reasonin..."
            ],
            "text/html": [
              "\n",
              "  <div id=\"df-ce94dde1-34b7-4169-b7f6-f2429f63fb72\">\n",
              "    <div class=\"colab-df-container\">\n",
              "      <div>\n",
              "<style scoped>\n",
              "    .dataframe tbody tr th:only-of-type {\n",
              "        vertical-align: middle;\n",
              "    }\n",
              "\n",
              "    .dataframe tbody tr th {\n",
              "        vertical-align: top;\n",
              "    }\n",
              "\n",
              "    .dataframe thead th {\n",
              "        text-align: right;\n",
              "    }\n",
              "</style>\n",
              "<table border=\"1\" class=\"dataframe\">\n",
              "  <thead>\n",
              "    <tr style=\"text-align: right;\">\n",
              "      <th></th>\n",
              "      <th>sent</th>\n",
              "    </tr>\n",
              "  </thead>\n",
              "  <tbody>\n",
              "    <tr>\n",
              "      <th>0</th>\n",
              "      <td>\\n Artificial intelligence is human like intel...</td>\n",
              "    </tr>\n",
              "    <tr>\n",
              "      <th>1</th>\n",
              "      <td>It is the study of intelligent artificial agents.</td>\n",
              "    </tr>\n",
              "    <tr>\n",
              "      <th>2</th>\n",
              "      <td>Science and engineering to produce \\nintellige...</td>\n",
              "    </tr>\n",
              "    <tr>\n",
              "      <th>3</th>\n",
              "      <td>Solve problems and have intelligence.</td>\n",
              "    </tr>\n",
              "    <tr>\n",
              "      <th>4</th>\n",
              "      <td>Related to \\nintelligent behavior.</td>\n",
              "    </tr>\n",
              "    <tr>\n",
              "      <th>5</th>\n",
              "      <td>Developing of reasoning machines.</td>\n",
              "    </tr>\n",
              "    <tr>\n",
              "      <th>6</th>\n",
              "      <td>Learn from \\nmistakes and successes.</td>\n",
              "    </tr>\n",
              "    <tr>\n",
              "      <th>7</th>\n",
              "      <td>Artificial intelligence is related to reasonin...</td>\n",
              "    </tr>\n",
              "  </tbody>\n",
              "</table>\n",
              "</div>\n",
              "      <button class=\"colab-df-convert\" onclick=\"convertToInteractive('df-ce94dde1-34b7-4169-b7f6-f2429f63fb72')\"\n",
              "              title=\"Convert this dataframe to an interactive table.\"\n",
              "              style=\"display:none;\">\n",
              "        \n",
              "  <svg xmlns=\"http://www.w3.org/2000/svg\" height=\"24px\"viewBox=\"0 0 24 24\"\n",
              "       width=\"24px\">\n",
              "    <path d=\"M0 0h24v24H0V0z\" fill=\"none\"/>\n",
              "    <path d=\"M18.56 5.44l.94 2.06.94-2.06 2.06-.94-2.06-.94-.94-2.06-.94 2.06-2.06.94zm-11 1L8.5 8.5l.94-2.06 2.06-.94-2.06-.94L8.5 2.5l-.94 2.06-2.06.94zm10 10l.94 2.06.94-2.06 2.06-.94-2.06-.94-.94-2.06-.94 2.06-2.06.94z\"/><path d=\"M17.41 7.96l-1.37-1.37c-.4-.4-.92-.59-1.43-.59-.52 0-1.04.2-1.43.59L10.3 9.45l-7.72 7.72c-.78.78-.78 2.05 0 2.83L4 21.41c.39.39.9.59 1.41.59.51 0 1.02-.2 1.41-.59l7.78-7.78 2.81-2.81c.8-.78.8-2.07 0-2.86zM5.41 20L4 18.59l7.72-7.72 1.47 1.35L5.41 20z\"/>\n",
              "  </svg>\n",
              "      </button>\n",
              "      \n",
              "  <style>\n",
              "    .colab-df-container {\n",
              "      display:flex;\n",
              "      flex-wrap:wrap;\n",
              "      gap: 12px;\n",
              "    }\n",
              "\n",
              "    .colab-df-convert {\n",
              "      background-color: #E8F0FE;\n",
              "      border: none;\n",
              "      border-radius: 50%;\n",
              "      cursor: pointer;\n",
              "      display: none;\n",
              "      fill: #1967D2;\n",
              "      height: 32px;\n",
              "      padding: 0 0 0 0;\n",
              "      width: 32px;\n",
              "    }\n",
              "\n",
              "    .colab-df-convert:hover {\n",
              "      background-color: #E2EBFA;\n",
              "      box-shadow: 0px 1px 2px rgba(60, 64, 67, 0.3), 0px 1px 3px 1px rgba(60, 64, 67, 0.15);\n",
              "      fill: #174EA6;\n",
              "    }\n",
              "\n",
              "    [theme=dark] .colab-df-convert {\n",
              "      background-color: #3B4455;\n",
              "      fill: #D2E3FC;\n",
              "    }\n",
              "\n",
              "    [theme=dark] .colab-df-convert:hover {\n",
              "      background-color: #434B5C;\n",
              "      box-shadow: 0px 1px 3px 1px rgba(0, 0, 0, 0.15);\n",
              "      filter: drop-shadow(0px 1px 2px rgba(0, 0, 0, 0.3));\n",
              "      fill: #FFFFFF;\n",
              "    }\n",
              "  </style>\n",
              "\n",
              "      <script>\n",
              "        const buttonEl =\n",
              "          document.querySelector('#df-ce94dde1-34b7-4169-b7f6-f2429f63fb72 button.colab-df-convert');\n",
              "        buttonEl.style.display =\n",
              "          google.colab.kernel.accessAllowed ? 'block' : 'none';\n",
              "\n",
              "        async function convertToInteractive(key) {\n",
              "          const element = document.querySelector('#df-ce94dde1-34b7-4169-b7f6-f2429f63fb72');\n",
              "          const dataTable =\n",
              "            await google.colab.kernel.invokeFunction('convertToInteractive',\n",
              "                                                     [key], {});\n",
              "          if (!dataTable) return;\n",
              "\n",
              "          const docLinkHtml = 'Like what you see? Visit the ' +\n",
              "            '<a target=\"_blank\" href=https://colab.research.google.com/notebooks/data_table.ipynb>data table notebook</a>'\n",
              "            + ' to learn more about interactive tables.';\n",
              "          element.innerHTML = '';\n",
              "          dataTable['output_type'] = 'display_data';\n",
              "          await google.colab.output.renderOutput(dataTable, element);\n",
              "          const docLink = document.createElement('div');\n",
              "          docLink.innerHTML = docLinkHtml;\n",
              "          element.appendChild(docLink);\n",
              "        }\n",
              "      </script>\n",
              "    </div>\n",
              "  </div>\n",
              "  "
            ]
          },
          "metadata": {},
          "execution_count": 5
        }
      ]
    },
    {
      "cell_type": "code",
      "metadata": {
        "id": "ty75-g49ys1v"
      },
      "source": [
        "data[\"sent\"]=data[\"sent\"].apply(lambda x:clean(x))"
      ],
      "execution_count": 6,
      "outputs": []
    },
    {
      "cell_type": "code",
      "metadata": {
        "id": "DxRDwDUh8nWN"
      },
      "source": [
        "token_count=dict(collections.Counter(nltk.tokenize.word_tokenize(clean(text))))"
      ],
      "execution_count": 7,
      "outputs": []
    },
    {
      "cell_type": "code",
      "metadata": {
        "id": "52Qjdk_u20JR"
      },
      "source": [
        "frame=pd.DataFrame({\"words\":token_count.keys(),\"count\":token_count.values()})"
      ],
      "execution_count": 8,
      "outputs": []
    },
    {
      "cell_type": "code",
      "metadata": {
        "colab": {
          "base_uri": "https://localhost:8080/",
          "height": 206
        },
        "id": "0h-Sjs8C3kpz",
        "outputId": "97501d17-8a3a-4542-faed-dd5ba6c2d032"
      },
      "source": [
        "frame.head()"
      ],
      "execution_count": 9,
      "outputs": [
        {
          "output_type": "execute_result",
          "data": {
            "text/plain": [
              "          words  count\n",
              "0    artificial      3\n",
              "1  intelligence      4\n",
              "2         human      1\n",
              "3          like      1\n",
              "4         study      1"
            ],
            "text/html": [
              "\n",
              "  <div id=\"df-0a1cc37c-0512-4be2-863c-2c7da50eb82d\">\n",
              "    <div class=\"colab-df-container\">\n",
              "      <div>\n",
              "<style scoped>\n",
              "    .dataframe tbody tr th:only-of-type {\n",
              "        vertical-align: middle;\n",
              "    }\n",
              "\n",
              "    .dataframe tbody tr th {\n",
              "        vertical-align: top;\n",
              "    }\n",
              "\n",
              "    .dataframe thead th {\n",
              "        text-align: right;\n",
              "    }\n",
              "</style>\n",
              "<table border=\"1\" class=\"dataframe\">\n",
              "  <thead>\n",
              "    <tr style=\"text-align: right;\">\n",
              "      <th></th>\n",
              "      <th>words</th>\n",
              "      <th>count</th>\n",
              "    </tr>\n",
              "  </thead>\n",
              "  <tbody>\n",
              "    <tr>\n",
              "      <th>0</th>\n",
              "      <td>artificial</td>\n",
              "      <td>3</td>\n",
              "    </tr>\n",
              "    <tr>\n",
              "      <th>1</th>\n",
              "      <td>intelligence</td>\n",
              "      <td>4</td>\n",
              "    </tr>\n",
              "    <tr>\n",
              "      <th>2</th>\n",
              "      <td>human</td>\n",
              "      <td>1</td>\n",
              "    </tr>\n",
              "    <tr>\n",
              "      <th>3</th>\n",
              "      <td>like</td>\n",
              "      <td>1</td>\n",
              "    </tr>\n",
              "    <tr>\n",
              "      <th>4</th>\n",
              "      <td>study</td>\n",
              "      <td>1</td>\n",
              "    </tr>\n",
              "  </tbody>\n",
              "</table>\n",
              "</div>\n",
              "      <button class=\"colab-df-convert\" onclick=\"convertToInteractive('df-0a1cc37c-0512-4be2-863c-2c7da50eb82d')\"\n",
              "              title=\"Convert this dataframe to an interactive table.\"\n",
              "              style=\"display:none;\">\n",
              "        \n",
              "  <svg xmlns=\"http://www.w3.org/2000/svg\" height=\"24px\"viewBox=\"0 0 24 24\"\n",
              "       width=\"24px\">\n",
              "    <path d=\"M0 0h24v24H0V0z\" fill=\"none\"/>\n",
              "    <path d=\"M18.56 5.44l.94 2.06.94-2.06 2.06-.94-2.06-.94-.94-2.06-.94 2.06-2.06.94zm-11 1L8.5 8.5l.94-2.06 2.06-.94-2.06-.94L8.5 2.5l-.94 2.06-2.06.94zm10 10l.94 2.06.94-2.06 2.06-.94-2.06-.94-.94-2.06-.94 2.06-2.06.94z\"/><path d=\"M17.41 7.96l-1.37-1.37c-.4-.4-.92-.59-1.43-.59-.52 0-1.04.2-1.43.59L10.3 9.45l-7.72 7.72c-.78.78-.78 2.05 0 2.83L4 21.41c.39.39.9.59 1.41.59.51 0 1.02-.2 1.41-.59l7.78-7.78 2.81-2.81c.8-.78.8-2.07 0-2.86zM5.41 20L4 18.59l7.72-7.72 1.47 1.35L5.41 20z\"/>\n",
              "  </svg>\n",
              "      </button>\n",
              "      \n",
              "  <style>\n",
              "    .colab-df-container {\n",
              "      display:flex;\n",
              "      flex-wrap:wrap;\n",
              "      gap: 12px;\n",
              "    }\n",
              "\n",
              "    .colab-df-convert {\n",
              "      background-color: #E8F0FE;\n",
              "      border: none;\n",
              "      border-radius: 50%;\n",
              "      cursor: pointer;\n",
              "      display: none;\n",
              "      fill: #1967D2;\n",
              "      height: 32px;\n",
              "      padding: 0 0 0 0;\n",
              "      width: 32px;\n",
              "    }\n",
              "\n",
              "    .colab-df-convert:hover {\n",
              "      background-color: #E2EBFA;\n",
              "      box-shadow: 0px 1px 2px rgba(60, 64, 67, 0.3), 0px 1px 3px 1px rgba(60, 64, 67, 0.15);\n",
              "      fill: #174EA6;\n",
              "    }\n",
              "\n",
              "    [theme=dark] .colab-df-convert {\n",
              "      background-color: #3B4455;\n",
              "      fill: #D2E3FC;\n",
              "    }\n",
              "\n",
              "    [theme=dark] .colab-df-convert:hover {\n",
              "      background-color: #434B5C;\n",
              "      box-shadow: 0px 1px 3px 1px rgba(0, 0, 0, 0.15);\n",
              "      filter: drop-shadow(0px 1px 2px rgba(0, 0, 0, 0.3));\n",
              "      fill: #FFFFFF;\n",
              "    }\n",
              "  </style>\n",
              "\n",
              "      <script>\n",
              "        const buttonEl =\n",
              "          document.querySelector('#df-0a1cc37c-0512-4be2-863c-2c7da50eb82d button.colab-df-convert');\n",
              "        buttonEl.style.display =\n",
              "          google.colab.kernel.accessAllowed ? 'block' : 'none';\n",
              "\n",
              "        async function convertToInteractive(key) {\n",
              "          const element = document.querySelector('#df-0a1cc37c-0512-4be2-863c-2c7da50eb82d');\n",
              "          const dataTable =\n",
              "            await google.colab.kernel.invokeFunction('convertToInteractive',\n",
              "                                                     [key], {});\n",
              "          if (!dataTable) return;\n",
              "\n",
              "          const docLinkHtml = 'Like what you see? Visit the ' +\n",
              "            '<a target=\"_blank\" href=https://colab.research.google.com/notebooks/data_table.ipynb>data table notebook</a>'\n",
              "            + ' to learn more about interactive tables.';\n",
              "          element.innerHTML = '';\n",
              "          dataTable['output_type'] = 'display_data';\n",
              "          await google.colab.output.renderOutput(dataTable, element);\n",
              "          const docLink = document.createElement('div');\n",
              "          docLink.innerHTML = docLinkHtml;\n",
              "          element.appendChild(docLink);\n",
              "        }\n",
              "      </script>\n",
              "    </div>\n",
              "  </div>\n",
              "  "
            ]
          },
          "metadata": {},
          "execution_count": 9
        }
      ]
    },
    {
      "cell_type": "code",
      "metadata": {
        "id": "ssL0ogAu3vIX"
      },
      "source": [
        "frame[\"weighted_count\"]=frame[\"count\"].apply(lambda x: x/frame[\"count\"].max())"
      ],
      "execution_count": 10,
      "outputs": []
    },
    {
      "cell_type": "code",
      "metadata": {
        "colab": {
          "base_uri": "https://localhost:8080/",
          "height": 206
        },
        "id": "Y8Qn3jPT4Hsh",
        "outputId": "ec91e21f-20c3-4051-a668-476d48d1c06a"
      },
      "source": [
        "frame.head()"
      ],
      "execution_count": 11,
      "outputs": [
        {
          "output_type": "execute_result",
          "data": {
            "text/plain": [
              "          words  count  weighted_count\n",
              "0    artificial      3            0.75\n",
              "1  intelligence      4            1.00\n",
              "2         human      1            0.25\n",
              "3          like      1            0.25\n",
              "4         study      1            0.25"
            ],
            "text/html": [
              "\n",
              "  <div id=\"df-21e63c99-e9ac-4739-be1c-0a31ac8100ba\">\n",
              "    <div class=\"colab-df-container\">\n",
              "      <div>\n",
              "<style scoped>\n",
              "    .dataframe tbody tr th:only-of-type {\n",
              "        vertical-align: middle;\n",
              "    }\n",
              "\n",
              "    .dataframe tbody tr th {\n",
              "        vertical-align: top;\n",
              "    }\n",
              "\n",
              "    .dataframe thead th {\n",
              "        text-align: right;\n",
              "    }\n",
              "</style>\n",
              "<table border=\"1\" class=\"dataframe\">\n",
              "  <thead>\n",
              "    <tr style=\"text-align: right;\">\n",
              "      <th></th>\n",
              "      <th>words</th>\n",
              "      <th>count</th>\n",
              "      <th>weighted_count</th>\n",
              "    </tr>\n",
              "  </thead>\n",
              "  <tbody>\n",
              "    <tr>\n",
              "      <th>0</th>\n",
              "      <td>artificial</td>\n",
              "      <td>3</td>\n",
              "      <td>0.75</td>\n",
              "    </tr>\n",
              "    <tr>\n",
              "      <th>1</th>\n",
              "      <td>intelligence</td>\n",
              "      <td>4</td>\n",
              "      <td>1.00</td>\n",
              "    </tr>\n",
              "    <tr>\n",
              "      <th>2</th>\n",
              "      <td>human</td>\n",
              "      <td>1</td>\n",
              "      <td>0.25</td>\n",
              "    </tr>\n",
              "    <tr>\n",
              "      <th>3</th>\n",
              "      <td>like</td>\n",
              "      <td>1</td>\n",
              "      <td>0.25</td>\n",
              "    </tr>\n",
              "    <tr>\n",
              "      <th>4</th>\n",
              "      <td>study</td>\n",
              "      <td>1</td>\n",
              "      <td>0.25</td>\n",
              "    </tr>\n",
              "  </tbody>\n",
              "</table>\n",
              "</div>\n",
              "      <button class=\"colab-df-convert\" onclick=\"convertToInteractive('df-21e63c99-e9ac-4739-be1c-0a31ac8100ba')\"\n",
              "              title=\"Convert this dataframe to an interactive table.\"\n",
              "              style=\"display:none;\">\n",
              "        \n",
              "  <svg xmlns=\"http://www.w3.org/2000/svg\" height=\"24px\"viewBox=\"0 0 24 24\"\n",
              "       width=\"24px\">\n",
              "    <path d=\"M0 0h24v24H0V0z\" fill=\"none\"/>\n",
              "    <path d=\"M18.56 5.44l.94 2.06.94-2.06 2.06-.94-2.06-.94-.94-2.06-.94 2.06-2.06.94zm-11 1L8.5 8.5l.94-2.06 2.06-.94-2.06-.94L8.5 2.5l-.94 2.06-2.06.94zm10 10l.94 2.06.94-2.06 2.06-.94-2.06-.94-.94-2.06-.94 2.06-2.06.94z\"/><path d=\"M17.41 7.96l-1.37-1.37c-.4-.4-.92-.59-1.43-.59-.52 0-1.04.2-1.43.59L10.3 9.45l-7.72 7.72c-.78.78-.78 2.05 0 2.83L4 21.41c.39.39.9.59 1.41.59.51 0 1.02-.2 1.41-.59l7.78-7.78 2.81-2.81c.8-.78.8-2.07 0-2.86zM5.41 20L4 18.59l7.72-7.72 1.47 1.35L5.41 20z\"/>\n",
              "  </svg>\n",
              "      </button>\n",
              "      \n",
              "  <style>\n",
              "    .colab-df-container {\n",
              "      display:flex;\n",
              "      flex-wrap:wrap;\n",
              "      gap: 12px;\n",
              "    }\n",
              "\n",
              "    .colab-df-convert {\n",
              "      background-color: #E8F0FE;\n",
              "      border: none;\n",
              "      border-radius: 50%;\n",
              "      cursor: pointer;\n",
              "      display: none;\n",
              "      fill: #1967D2;\n",
              "      height: 32px;\n",
              "      padding: 0 0 0 0;\n",
              "      width: 32px;\n",
              "    }\n",
              "\n",
              "    .colab-df-convert:hover {\n",
              "      background-color: #E2EBFA;\n",
              "      box-shadow: 0px 1px 2px rgba(60, 64, 67, 0.3), 0px 1px 3px 1px rgba(60, 64, 67, 0.15);\n",
              "      fill: #174EA6;\n",
              "    }\n",
              "\n",
              "    [theme=dark] .colab-df-convert {\n",
              "      background-color: #3B4455;\n",
              "      fill: #D2E3FC;\n",
              "    }\n",
              "\n",
              "    [theme=dark] .colab-df-convert:hover {\n",
              "      background-color: #434B5C;\n",
              "      box-shadow: 0px 1px 3px 1px rgba(0, 0, 0, 0.15);\n",
              "      filter: drop-shadow(0px 1px 2px rgba(0, 0, 0, 0.3));\n",
              "      fill: #FFFFFF;\n",
              "    }\n",
              "  </style>\n",
              "\n",
              "      <script>\n",
              "        const buttonEl =\n",
              "          document.querySelector('#df-21e63c99-e9ac-4739-be1c-0a31ac8100ba button.colab-df-convert');\n",
              "        buttonEl.style.display =\n",
              "          google.colab.kernel.accessAllowed ? 'block' : 'none';\n",
              "\n",
              "        async function convertToInteractive(key) {\n",
              "          const element = document.querySelector('#df-21e63c99-e9ac-4739-be1c-0a31ac8100ba');\n",
              "          const dataTable =\n",
              "            await google.colab.kernel.invokeFunction('convertToInteractive',\n",
              "                                                     [key], {});\n",
              "          if (!dataTable) return;\n",
              "\n",
              "          const docLinkHtml = 'Like what you see? Visit the ' +\n",
              "            '<a target=\"_blank\" href=https://colab.research.google.com/notebooks/data_table.ipynb>data table notebook</a>'\n",
              "            + ' to learn more about interactive tables.';\n",
              "          element.innerHTML = '';\n",
              "          dataTable['output_type'] = 'display_data';\n",
              "          await google.colab.output.renderOutput(dataTable, element);\n",
              "          const docLink = document.createElement('div');\n",
              "          docLink.innerHTML = docLinkHtml;\n",
              "          element.appendChild(docLink);\n",
              "        }\n",
              "      </script>\n",
              "    </div>\n",
              "  </div>\n",
              "  "
            ]
          },
          "metadata": {},
          "execution_count": 11
        }
      ]
    },
    {
      "cell_type": "code",
      "metadata": {
        "id": "zaaY8YQ84Pu6"
      },
      "source": [
        "weight_words={i:j for i,j in zip(frame[\"words\"],frame[\"weighted_count\"])}"
      ],
      "execution_count": 12,
      "outputs": []
    },
    {
      "cell_type": "code",
      "metadata": {
        "id": "2VIV2g2O59-h"
      },
      "source": [
        "def get_score(x):\n",
        "  score=[]\n",
        "  for w in nltk.tokenize.word_tokenize(x):\n",
        "    if w in weight_words.keys():\n",
        "      score.append(weight_words[w])\n",
        "  return sum(score)\n",
        "      "
      ],
      "execution_count": 13,
      "outputs": []
    },
    {
      "cell_type": "code",
      "metadata": {
        "id": "jsnrwThD-kr9"
      },
      "source": [
        "data[\"Score\"]=data[\"sent\"].apply(get_score)"
      ],
      "execution_count": 14,
      "outputs": []
    },
    {
      "cell_type": "code",
      "metadata": {
        "colab": {
          "base_uri": "https://localhost:8080/",
          "height": 300
        },
        "id": "LXJjKwdB-nBm",
        "outputId": "274d3a18-1426-4693-c1f7-83c591c4af09"
      },
      "source": [
        "data"
      ],
      "execution_count": 15,
      "outputs": [
        {
          "output_type": "execute_result",
          "data": {
            "text/plain": [
              "                                                sent  Score\n",
              "0    artificial intelligence human like intelligence   3.25\n",
              "1                study intelligent artificial agents   2.00\n",
              "2   science engineering produce intelligent machines   2.00\n",
              "3                        solve problems intelligence   1.50\n",
              "4                       related intelligent behavior   1.50\n",
              "5                      developing reasoning machines   1.25\n",
              "6                           learn mistakes successes   0.75\n",
              "7  artificial intelligence related reasoning ever...   3.25"
            ],
            "text/html": [
              "\n",
              "  <div id=\"df-048430d0-3cc8-4baf-bf1e-c2646a6fec92\">\n",
              "    <div class=\"colab-df-container\">\n",
              "      <div>\n",
              "<style scoped>\n",
              "    .dataframe tbody tr th:only-of-type {\n",
              "        vertical-align: middle;\n",
              "    }\n",
              "\n",
              "    .dataframe tbody tr th {\n",
              "        vertical-align: top;\n",
              "    }\n",
              "\n",
              "    .dataframe thead th {\n",
              "        text-align: right;\n",
              "    }\n",
              "</style>\n",
              "<table border=\"1\" class=\"dataframe\">\n",
              "  <thead>\n",
              "    <tr style=\"text-align: right;\">\n",
              "      <th></th>\n",
              "      <th>sent</th>\n",
              "      <th>Score</th>\n",
              "    </tr>\n",
              "  </thead>\n",
              "  <tbody>\n",
              "    <tr>\n",
              "      <th>0</th>\n",
              "      <td>artificial intelligence human like intelligence</td>\n",
              "      <td>3.25</td>\n",
              "    </tr>\n",
              "    <tr>\n",
              "      <th>1</th>\n",
              "      <td>study intelligent artificial agents</td>\n",
              "      <td>2.00</td>\n",
              "    </tr>\n",
              "    <tr>\n",
              "      <th>2</th>\n",
              "      <td>science engineering produce intelligent machines</td>\n",
              "      <td>2.00</td>\n",
              "    </tr>\n",
              "    <tr>\n",
              "      <th>3</th>\n",
              "      <td>solve problems intelligence</td>\n",
              "      <td>1.50</td>\n",
              "    </tr>\n",
              "    <tr>\n",
              "      <th>4</th>\n",
              "      <td>related intelligent behavior</td>\n",
              "      <td>1.50</td>\n",
              "    </tr>\n",
              "    <tr>\n",
              "      <th>5</th>\n",
              "      <td>developing reasoning machines</td>\n",
              "      <td>1.25</td>\n",
              "    </tr>\n",
              "    <tr>\n",
              "      <th>6</th>\n",
              "      <td>learn mistakes successes</td>\n",
              "      <td>0.75</td>\n",
              "    </tr>\n",
              "    <tr>\n",
              "      <th>7</th>\n",
              "      <td>artificial intelligence related reasoning ever...</td>\n",
              "      <td>3.25</td>\n",
              "    </tr>\n",
              "  </tbody>\n",
              "</table>\n",
              "</div>\n",
              "      <button class=\"colab-df-convert\" onclick=\"convertToInteractive('df-048430d0-3cc8-4baf-bf1e-c2646a6fec92')\"\n",
              "              title=\"Convert this dataframe to an interactive table.\"\n",
              "              style=\"display:none;\">\n",
              "        \n",
              "  <svg xmlns=\"http://www.w3.org/2000/svg\" height=\"24px\"viewBox=\"0 0 24 24\"\n",
              "       width=\"24px\">\n",
              "    <path d=\"M0 0h24v24H0V0z\" fill=\"none\"/>\n",
              "    <path d=\"M18.56 5.44l.94 2.06.94-2.06 2.06-.94-2.06-.94-.94-2.06-.94 2.06-2.06.94zm-11 1L8.5 8.5l.94-2.06 2.06-.94-2.06-.94L8.5 2.5l-.94 2.06-2.06.94zm10 10l.94 2.06.94-2.06 2.06-.94-2.06-.94-.94-2.06-.94 2.06-2.06.94z\"/><path d=\"M17.41 7.96l-1.37-1.37c-.4-.4-.92-.59-1.43-.59-.52 0-1.04.2-1.43.59L10.3 9.45l-7.72 7.72c-.78.78-.78 2.05 0 2.83L4 21.41c.39.39.9.59 1.41.59.51 0 1.02-.2 1.41-.59l7.78-7.78 2.81-2.81c.8-.78.8-2.07 0-2.86zM5.41 20L4 18.59l7.72-7.72 1.47 1.35L5.41 20z\"/>\n",
              "  </svg>\n",
              "      </button>\n",
              "      \n",
              "  <style>\n",
              "    .colab-df-container {\n",
              "      display:flex;\n",
              "      flex-wrap:wrap;\n",
              "      gap: 12px;\n",
              "    }\n",
              "\n",
              "    .colab-df-convert {\n",
              "      background-color: #E8F0FE;\n",
              "      border: none;\n",
              "      border-radius: 50%;\n",
              "      cursor: pointer;\n",
              "      display: none;\n",
              "      fill: #1967D2;\n",
              "      height: 32px;\n",
              "      padding: 0 0 0 0;\n",
              "      width: 32px;\n",
              "    }\n",
              "\n",
              "    .colab-df-convert:hover {\n",
              "      background-color: #E2EBFA;\n",
              "      box-shadow: 0px 1px 2px rgba(60, 64, 67, 0.3), 0px 1px 3px 1px rgba(60, 64, 67, 0.15);\n",
              "      fill: #174EA6;\n",
              "    }\n",
              "\n",
              "    [theme=dark] .colab-df-convert {\n",
              "      background-color: #3B4455;\n",
              "      fill: #D2E3FC;\n",
              "    }\n",
              "\n",
              "    [theme=dark] .colab-df-convert:hover {\n",
              "      background-color: #434B5C;\n",
              "      box-shadow: 0px 1px 3px 1px rgba(0, 0, 0, 0.15);\n",
              "      filter: drop-shadow(0px 1px 2px rgba(0, 0, 0, 0.3));\n",
              "      fill: #FFFFFF;\n",
              "    }\n",
              "  </style>\n",
              "\n",
              "      <script>\n",
              "        const buttonEl =\n",
              "          document.querySelector('#df-048430d0-3cc8-4baf-bf1e-c2646a6fec92 button.colab-df-convert');\n",
              "        buttonEl.style.display =\n",
              "          google.colab.kernel.accessAllowed ? 'block' : 'none';\n",
              "\n",
              "        async function convertToInteractive(key) {\n",
              "          const element = document.querySelector('#df-048430d0-3cc8-4baf-bf1e-c2646a6fec92');\n",
              "          const dataTable =\n",
              "            await google.colab.kernel.invokeFunction('convertToInteractive',\n",
              "                                                     [key], {});\n",
              "          if (!dataTable) return;\n",
              "\n",
              "          const docLinkHtml = 'Like what you see? Visit the ' +\n",
              "            '<a target=\"_blank\" href=https://colab.research.google.com/notebooks/data_table.ipynb>data table notebook</a>'\n",
              "            + ' to learn more about interactive tables.';\n",
              "          element.innerHTML = '';\n",
              "          dataTable['output_type'] = 'display_data';\n",
              "          await google.colab.output.renderOutput(dataTable, element);\n",
              "          const docLink = document.createElement('div');\n",
              "          docLink.innerHTML = docLinkHtml;\n",
              "          element.appendChild(docLink);\n",
              "        }\n",
              "      </script>\n",
              "    </div>\n",
              "  </div>\n",
              "  "
            ]
          },
          "metadata": {},
          "execution_count": 15
        }
      ]
    },
    {
      "cell_type": "code",
      "metadata": {
        "id": "4GgZelil_f61"
      },
      "source": [
        "data[\"Original_Text\"]=nltk.tokenize.sent_tokenize(text)"
      ],
      "execution_count": 16,
      "outputs": []
    },
    {
      "cell_type": "code",
      "metadata": {
        "colab": {
          "base_uri": "https://localhost:8080/",
          "height": 206
        },
        "id": "j27543tBABaJ",
        "outputId": "2a181e1d-32d4-4172-8d69-0acb35576e2e"
      },
      "source": [
        "data.head()"
      ],
      "execution_count": 17,
      "outputs": [
        {
          "output_type": "execute_result",
          "data": {
            "text/plain": [
              "                                               sent  Score  \\\n",
              "0   artificial intelligence human like intelligence   3.25   \n",
              "1               study intelligent artificial agents   2.00   \n",
              "2  science engineering produce intelligent machines   2.00   \n",
              "3                       solve problems intelligence   1.50   \n",
              "4                      related intelligent behavior   1.50   \n",
              "\n",
              "                                       Original_Text  \n",
              "0  \\n Artificial intelligence is human like intel...  \n",
              "1  It is the study of intelligent artificial agents.  \n",
              "2  Science and engineering to produce \\nintellige...  \n",
              "3              Solve problems and have intelligence.  \n",
              "4                 Related to \\nintelligent behavior.  "
            ],
            "text/html": [
              "\n",
              "  <div id=\"df-dfa0557a-c76e-4eaa-b573-94a5ca58396c\">\n",
              "    <div class=\"colab-df-container\">\n",
              "      <div>\n",
              "<style scoped>\n",
              "    .dataframe tbody tr th:only-of-type {\n",
              "        vertical-align: middle;\n",
              "    }\n",
              "\n",
              "    .dataframe tbody tr th {\n",
              "        vertical-align: top;\n",
              "    }\n",
              "\n",
              "    .dataframe thead th {\n",
              "        text-align: right;\n",
              "    }\n",
              "</style>\n",
              "<table border=\"1\" class=\"dataframe\">\n",
              "  <thead>\n",
              "    <tr style=\"text-align: right;\">\n",
              "      <th></th>\n",
              "      <th>sent</th>\n",
              "      <th>Score</th>\n",
              "      <th>Original_Text</th>\n",
              "    </tr>\n",
              "  </thead>\n",
              "  <tbody>\n",
              "    <tr>\n",
              "      <th>0</th>\n",
              "      <td>artificial intelligence human like intelligence</td>\n",
              "      <td>3.25</td>\n",
              "      <td>\\n Artificial intelligence is human like intel...</td>\n",
              "    </tr>\n",
              "    <tr>\n",
              "      <th>1</th>\n",
              "      <td>study intelligent artificial agents</td>\n",
              "      <td>2.00</td>\n",
              "      <td>It is the study of intelligent artificial agents.</td>\n",
              "    </tr>\n",
              "    <tr>\n",
              "      <th>2</th>\n",
              "      <td>science engineering produce intelligent machines</td>\n",
              "      <td>2.00</td>\n",
              "      <td>Science and engineering to produce \\nintellige...</td>\n",
              "    </tr>\n",
              "    <tr>\n",
              "      <th>3</th>\n",
              "      <td>solve problems intelligence</td>\n",
              "      <td>1.50</td>\n",
              "      <td>Solve problems and have intelligence.</td>\n",
              "    </tr>\n",
              "    <tr>\n",
              "      <th>4</th>\n",
              "      <td>related intelligent behavior</td>\n",
              "      <td>1.50</td>\n",
              "      <td>Related to \\nintelligent behavior.</td>\n",
              "    </tr>\n",
              "  </tbody>\n",
              "</table>\n",
              "</div>\n",
              "      <button class=\"colab-df-convert\" onclick=\"convertToInteractive('df-dfa0557a-c76e-4eaa-b573-94a5ca58396c')\"\n",
              "              title=\"Convert this dataframe to an interactive table.\"\n",
              "              style=\"display:none;\">\n",
              "        \n",
              "  <svg xmlns=\"http://www.w3.org/2000/svg\" height=\"24px\"viewBox=\"0 0 24 24\"\n",
              "       width=\"24px\">\n",
              "    <path d=\"M0 0h24v24H0V0z\" fill=\"none\"/>\n",
              "    <path d=\"M18.56 5.44l.94 2.06.94-2.06 2.06-.94-2.06-.94-.94-2.06-.94 2.06-2.06.94zm-11 1L8.5 8.5l.94-2.06 2.06-.94-2.06-.94L8.5 2.5l-.94 2.06-2.06.94zm10 10l.94 2.06.94-2.06 2.06-.94-2.06-.94-.94-2.06-.94 2.06-2.06.94z\"/><path d=\"M17.41 7.96l-1.37-1.37c-.4-.4-.92-.59-1.43-.59-.52 0-1.04.2-1.43.59L10.3 9.45l-7.72 7.72c-.78.78-.78 2.05 0 2.83L4 21.41c.39.39.9.59 1.41.59.51 0 1.02-.2 1.41-.59l7.78-7.78 2.81-2.81c.8-.78.8-2.07 0-2.86zM5.41 20L4 18.59l7.72-7.72 1.47 1.35L5.41 20z\"/>\n",
              "  </svg>\n",
              "      </button>\n",
              "      \n",
              "  <style>\n",
              "    .colab-df-container {\n",
              "      display:flex;\n",
              "      flex-wrap:wrap;\n",
              "      gap: 12px;\n",
              "    }\n",
              "\n",
              "    .colab-df-convert {\n",
              "      background-color: #E8F0FE;\n",
              "      border: none;\n",
              "      border-radius: 50%;\n",
              "      cursor: pointer;\n",
              "      display: none;\n",
              "      fill: #1967D2;\n",
              "      height: 32px;\n",
              "      padding: 0 0 0 0;\n",
              "      width: 32px;\n",
              "    }\n",
              "\n",
              "    .colab-df-convert:hover {\n",
              "      background-color: #E2EBFA;\n",
              "      box-shadow: 0px 1px 2px rgba(60, 64, 67, 0.3), 0px 1px 3px 1px rgba(60, 64, 67, 0.15);\n",
              "      fill: #174EA6;\n",
              "    }\n",
              "\n",
              "    [theme=dark] .colab-df-convert {\n",
              "      background-color: #3B4455;\n",
              "      fill: #D2E3FC;\n",
              "    }\n",
              "\n",
              "    [theme=dark] .colab-df-convert:hover {\n",
              "      background-color: #434B5C;\n",
              "      box-shadow: 0px 1px 3px 1px rgba(0, 0, 0, 0.15);\n",
              "      filter: drop-shadow(0px 1px 2px rgba(0, 0, 0, 0.3));\n",
              "      fill: #FFFFFF;\n",
              "    }\n",
              "  </style>\n",
              "\n",
              "      <script>\n",
              "        const buttonEl =\n",
              "          document.querySelector('#df-dfa0557a-c76e-4eaa-b573-94a5ca58396c button.colab-df-convert');\n",
              "        buttonEl.style.display =\n",
              "          google.colab.kernel.accessAllowed ? 'block' : 'none';\n",
              "\n",
              "        async function convertToInteractive(key) {\n",
              "          const element = document.querySelector('#df-dfa0557a-c76e-4eaa-b573-94a5ca58396c');\n",
              "          const dataTable =\n",
              "            await google.colab.kernel.invokeFunction('convertToInteractive',\n",
              "                                                     [key], {});\n",
              "          if (!dataTable) return;\n",
              "\n",
              "          const docLinkHtml = 'Like what you see? Visit the ' +\n",
              "            '<a target=\"_blank\" href=https://colab.research.google.com/notebooks/data_table.ipynb>data table notebook</a>'\n",
              "            + ' to learn more about interactive tables.';\n",
              "          element.innerHTML = '';\n",
              "          dataTable['output_type'] = 'display_data';\n",
              "          await google.colab.output.renderOutput(dataTable, element);\n",
              "          const docLink = document.createElement('div');\n",
              "          docLink.innerHTML = docLinkHtml;\n",
              "          element.appendChild(docLink);\n",
              "        }\n",
              "      </script>\n",
              "    </div>\n",
              "  </div>\n",
              "  "
            ]
          },
          "metadata": {},
          "execution_count": 17
        }
      ]
    },
    {
      "cell_type": "code",
      "metadata": {
        "colab": {
          "base_uri": "https://localhost:8080/",
          "height": 70
        },
        "id": "JlQ-yYfGACI2",
        "outputId": "8efef1aa-aa2f-4489-9908-13c64f72467f"
      },
      "source": [
        "''.join(data[data[\"Score\"]>=(data[\"Score\"].max()+data[\"Score\"].min())/2][\"Original_Text\"])"
      ],
      "execution_count": 18,
      "outputs": [
        {
          "output_type": "execute_result",
          "data": {
            "text/plain": [
              "'\\n Artificial intelligence is human like intelligence.It is the study of intelligent artificial agents.Science and engineering to produce \\nintelligent machines.Artificial intelligence is related to reasoning in \\neveryday situations.'"
            ],
            "application/vnd.google.colaboratory.intrinsic+json": {
              "type": "string"
            }
          },
          "metadata": {},
          "execution_count": 18
        }
      ]
    },
    {
      "cell_type": "markdown",
      "metadata": {
        "id": "CTVDmCL1FrIZ"
      },
      "source": [
        "## Combine All Step to Build A Text Summarization Function"
      ]
    },
    {
      "cell_type": "code",
      "metadata": {
        "id": "mK2Suzk5AGg4"
      },
      "source": [
        "def SUMMARIZE_WITH_FBA(text):\n",
        "  def clean(text):\n",
        "    to_lower=' '.join([i.lower() for i in nltk.tokenize.word_tokenize(text)])\n",
        "    rem_punc=''.join([i for i in to_lower if i not in string.punctuation])\n",
        "    return ' '.join([i for i in nltk.tokenize.word_tokenize(rem_punc) if i not in nltk.corpus.stopwords.words(\"english\")])\n",
        "    \n",
        "  data=pd.DataFrame({\"sent\":nltk.tokenize.sent_tokenize(text)})\n",
        "\n",
        "  data[\"cleaned\"]=data[\"sent\"].apply(lambda x:clean(x))\n",
        "  token_count=dict(collections.Counter(nltk.tokenize.word_tokenize(clean(text))))\n",
        "  frame=pd.DataFrame({\"words\":token_count.keys(),\"count\":token_count.values()})\n",
        "  frame[\"weighted_count\"]=frame[\"count\"].apply(lambda x: x/frame[\"count\"].max())\n",
        "  weight_words={i:j for i,j in zip(frame[\"words\"],frame[\"weighted_count\"])}\n",
        "  def get_score(x):\n",
        "    score=[]\n",
        "    for w in nltk.tokenize.word_tokenize(x):\n",
        "      if w in weight_words.keys():\n",
        "        score.append(weight_words[w])\n",
        "    return sum(score)\n",
        "  data[\"Score\"]=data[\"cleaned\"].apply(get_score)\n",
        "  return ' '.join(data[data[\"Score\"]>=(data[\"Score\"].max()+data[\"Score\"].min())/2][\"sent\"]).replace(\"\\n\",\"\")\n"
      ],
      "execution_count": 19,
      "outputs": []
    },
    {
      "cell_type": "code",
      "metadata": {
        "id": "Iu7GZMrXAGpn",
        "colab": {
          "base_uri": "https://localhost:8080/"
        },
        "outputId": "98566b13-e5ea-476b-8936-3466e33fbc3d"
      },
      "source": [
        "nltk.tokenize.sent_tokenize(SUMMARIZE_WITH_FBA(text))"
      ],
      "execution_count": 20,
      "outputs": [
        {
          "output_type": "execute_result",
          "data": {
            "text/plain": [
              "[' Artificial intelligence is human like intelligence.',\n",
              " 'It is the study of intelligent artificial agents.',\n",
              " 'Science and engineering to produce intelligent machines.',\n",
              " 'Artificial intelligence is related to reasoning in everyday situations.']"
            ]
          },
          "metadata": {},
          "execution_count": 20
        }
      ]
    },
    {
      "cell_type": "markdown",
      "metadata": {
        "id": "Dkztx_f2Mn9R"
      },
      "source": [
        "## Optimized Function : Example 2"
      ]
    },
    {
      "cell_type": "code",
      "metadata": {
        "id": "1MCyLPsWGVbP"
      },
      "source": [
        "def SUMMARIZE_WITH_FBA(text):\n",
        "  def clean(text):\n",
        "    return ' '.join([i for i in nltk.tokenize.word_tokenize(''.join([i for i in ' '.join([i.lower() for i in nltk.\n",
        "              tokenize.word_tokenize(text)]) if i not in string.punctuation])) if i not in nltk.corpus.stopwords.\n",
        "              words(\"english\")])\n",
        "  data=pd.DataFrame({\"sent\":nltk.tokenize.sent_tokenize(text)})\n",
        "  data[\"cleaned\"]=data[\"sent\"].apply(lambda x:clean(x))\n",
        "  token_count=dict(collections.Counter(nltk.tokenize.word_tokenize(clean(text))))\n",
        "  frame=pd.DataFrame({\"words\":token_count.keys(),\"count\":token_count.values()})\n",
        "  frame[\"weighted_count\"]=frame[\"count\"].apply(lambda x: x/frame[\"count\"].max())\n",
        "  weight_words={i:j for i,j in zip(frame[\"words\"],frame[\"weighted_count\"])} \n",
        "  data[\"Score\"]=data[\"cleaned\"].apply(lambda x: sum([weight_words[w] for w in nltk.tokenize.\n",
        "                              word_tokenize(x) if w in weight_words.keys()]))\n",
        "  return ' '.join(data[data[\"Score\"]>=(data[\"Score\"].max()+data[\"Score\"].min())/2][\"sent\"]).replace(\"\\n\",\"\").strip(\" \")\n"
      ],
      "execution_count": 21,
      "outputs": []
    },
    {
      "cell_type": "code",
      "metadata": {
        "colab": {
          "base_uri": "https://localhost:8080/",
          "height": 70
        },
        "id": "LWbEKSIzGVWr",
        "outputId": "d1d8170d-23b3-40a8-d488-a15124a5e9da"
      },
      "source": [
        "SUMMARIZE_WITH_FBA(text)"
      ],
      "execution_count": 22,
      "outputs": [
        {
          "output_type": "execute_result",
          "data": {
            "text/plain": [
              "'Artificial intelligence is human like intelligence. It is the study of intelligent artificial agents. Science and engineering to produce intelligent machines. Artificial intelligence is related to reasoning in everyday situations.'"
            ],
            "application/vnd.google.colaboratory.intrinsic+json": {
              "type": "string"
            }
          },
          "metadata": {},
          "execution_count": 22
        }
      ]
    },
    {
      "cell_type": "code",
      "metadata": {
        "id": "-Zm-44flGVRW"
      },
      "source": [
        "from IPython.core.display import HTML"
      ],
      "execution_count": 23,
      "outputs": []
    },
    {
      "cell_type": "code",
      "metadata": {
        "colab": {
          "base_uri": "https://localhost:8080/",
          "height": 128
        },
        "id": "Dg7QPg7yGOI8",
        "outputId": "70b4caab-c73b-4dd2-c5d8-829ad1216881"
      },
      "source": [
        "display(HTML(f'<h1> Summary </h1>'))\n",
        "display(HTML(f'<h4><i> {SUMMARIZE_WITH_FBA(text)}</i></h4>'))"
      ],
      "execution_count": 24,
      "outputs": [
        {
          "output_type": "display_data",
          "data": {
            "text/plain": [
              "<IPython.core.display.HTML object>"
            ],
            "text/html": [
              "<h1> Summary </h1>"
            ]
          },
          "metadata": {}
        },
        {
          "output_type": "display_data",
          "data": {
            "text/plain": [
              "<IPython.core.display.HTML object>"
            ],
            "text/html": [
              "<h4><i> Artificial intelligence is human like intelligence. It is the study of intelligent artificial agents. Science and engineering to produce intelligent machines. Artificial intelligence is related to reasoning in everyday situations.</i></h4>"
            ]
          },
          "metadata": {}
        }
      ]
    },
    {
      "cell_type": "markdown",
      "source": [
        "## Example 3"
      ],
      "metadata": {
        "id": "hjRmYZBQ6TIP"
      }
    },
    {
      "cell_type": "code",
      "metadata": {
        "id": "e2I3NGARPMQW"
      },
      "source": [
        "def SUMMARIZE_WITH_FBA(text):\n",
        "  def clean(text):\n",
        "    return ' '.join([i for i in nltk.tokenize.word_tokenize(''.join([i for i in ' '.join([i.lower() for i in nltk.\n",
        "              tokenize.word_tokenize(text)]) if i not in string.punctuation])) if i not in nltk.corpus.stopwords.\n",
        "              words(\"english\")])\n",
        "  data=pd.DataFrame({\"sent\":nltk.tokenize.sent_tokenize(text)})\n",
        "  data[\"cleaned\"]=data[\"sent\"].apply(lambda x:clean(x))\n",
        "  token_count=dict(collections.Counter(nltk.tokenize.word_tokenize(clean(text))))\n",
        "  frame=pd.DataFrame({\"words\":token_count.keys(),\"count\":token_count.values()})\n",
        "  frame[\"weighted_count\"]=frame[\"count\"].apply(lambda x: x/frame[\"count\"].max())\n",
        "  weight_words={i:j for i,j in zip(frame[\"words\"],frame[\"weighted_count\"])} \n",
        "  data[\"Score\"]=data[\"cleaned\"].apply(lambda x: sum([weight_words[w] for w in nltk.tokenize.\n",
        "                              word_tokenize(x) if w in weight_words.keys()]))\n",
        "  summary=' '.join(data[data[\"Score\"]>=(data[\"Score\"].max()+data[\"Score\"].min())/2][\"sent\"]).replace(\"\\n\",\"\").strip(\" \")\n",
        "   \n",
        "  return display(HTML(f'''<h2><i>Summary:</i></h2> {summary}'''))\n",
        "\n",
        " "
      ],
      "execution_count": 29,
      "outputs": []
    },
    {
      "cell_type": "code",
      "metadata": {
        "colab": {
          "base_uri": "https://localhost:8080/",
          "height": 99
        },
        "id": "FzBKZzquQL0F",
        "outputId": "34c4e106-ab73-46a3-f14b-ffde1207f288"
      },
      "source": [
        "SUMMARIZE_WITH_FBA(text)"
      ],
      "execution_count": 30,
      "outputs": [
        {
          "output_type": "display_data",
          "data": {
            "text/plain": [
              "<IPython.core.display.HTML object>"
            ],
            "text/html": [
              "<h2><i>Summary:</i></h2> Artificial intelligence is human like intelligence. It is the study of intelligent artificial agents. Science and engineering to produce intelligent machines. Artificial intelligence is related to reasoning in everyday situations."
            ]
          },
          "metadata": {}
        }
      ]
    },
    {
      "cell_type": "markdown",
      "source": [
        "## Example 4"
      ],
      "metadata": {
        "id": "VhELV0Fj525E"
      }
    },
    {
      "cell_type": "code",
      "metadata": {
        "id": "pcCPFjkCRE55"
      },
      "source": [
        "!pip install goose3"
      ],
      "execution_count": null,
      "outputs": []
    },
    {
      "cell_type": "code",
      "metadata": {
        "id": "tcfp0ilZ8kvT"
      },
      "source": [
        "from goose3 import Goose"
      ],
      "execution_count": 32,
      "outputs": []
    },
    {
      "cell_type": "code",
      "metadata": {
        "id": "TNEz9kPL9odz"
      },
      "source": [
        "g=Goose()\n",
        "url=\"https://en.wikipedia.org/wiki/Automatic_summarization\"\n",
        "article=g.extract(url)"
      ],
      "execution_count": 33,
      "outputs": []
    },
    {
      "cell_type": "code",
      "metadata": {
        "colab": {
          "base_uri": "https://localhost:8080/"
        },
        "id": "xEOJdgl2-Vnu",
        "outputId": "1c6a15f3-cea7-4ccb-8412-ed996c7025b2"
      },
      "source": [
        "article.infos"
      ],
      "execution_count": 34,
      "outputs": [
        {
          "output_type": "execute_result",
          "data": {
            "text/plain": [
              "{'meta': {'description': '',\n",
              "  'lang': 'en',\n",
              "  'keywords': '',\n",
              "  'favicon': '/static/apple-touch/wikipedia.png',\n",
              "  'canonical': 'https://en.wikipedia.org/wiki/Automatic_summarization',\n",
              "  'encoding': 'UTF-8'},\n",
              " 'image': None,\n",
              " 'domain': 'en.wikipedia.org',\n",
              " 'title': 'Automatic summarization - Wikipedia',\n",
              " 'cleaned_text': 'Automatic summarization is the process of shortening a set of data computationally, to create a subset (a summary) that represents the most important or relevant information within the original content.\\n\\nIn addition to text, images and videos can also be summarized. Text summarization finds the most informative sentences in a document;[1] various methods of image summarization are the subject of ongoing research, with some looking to display the most representative images from a given collection or generating a video;[2][3][4] video summarization extracts the most important frames from the video content.[5]\\n\\nThere are two general approaches to automatic summarization: extraction and abstraction.\\n\\nHere, content is extracted from the original data, but the extracted content is not modified in any way. Examples of extracted content include key-phrases that can be used to \"tag\" or index a text document, or key sentences (including headings) that collectively comprise an abstract, and representative images or video segments, as stated above. For text, extraction is analogous to the process of skimming, where the summary (if available), headings and subheadings, figures, the first and last paragraphs of a section, and optionally the first and last sentences in a paragraph are read before one chooses to read the entire document in detail.[7] Other examples of extraction that include key sequences of text in terms of clinical relevance (including patient/problem, intervention, and outcome).[8]\\n\\nAbstractive summarization methods generate new text that did not exist in the original text.[9] This has been applied mainly for text. Abstractive methods build an internal semantic representation of the original content (often called a language model), and then use this representation to create a summary that is closer to what a human might express. Abstraction may transform the extracted content by paraphrasing sections of the source document, to condense a text more strongly than extraction. Such transformation, however, is computationally much more challenging than extraction, involving both natural language processing and often a deep understanding of the domain of the original text in cases where the original document relates to a special field of knowledge. \"Paraphrasing\" is even more difficult to apply to image and video, which is why most summarization systems are extractive.\\n\\nApproaches aimed at higher summarization quality rely on combined software and human effort. In Machine Aided Human Summarization, extractive techniques highlight candidate passages for inclusion (to which the human adds or removes text). In Human Aided Machine Summarization, a human post-processes software output, in the same way that one edits the output of automatic translation by Google Translate.\\n\\nThere are broadly two types of extractive summarization tasks depending on what the summarization program focuses on. The first is generic summarization, which focuses on obtaining a generic summary or abstract of the collection (whether documents, or sets of images, or videos, news stories etc.). The second is query relevant summarization, sometimes called query-based summarization, which summarizes objects specific to a query. Summarization systems are able to create both query relevant text summaries and generic machine-generated summaries depending on what the user needs.\\n\\nAn example of a summarization problem is document summarization, which attempts to automatically produce an abstract from a given document. Sometimes one might be interested in generating a summary from a single source document, while others can use multiple source documents (for example, a cluster of articles on the same topic). This problem is called multi-document summarization. A related application is summarizing news articles. Imagine a system, which automatically pulls together news articles on a given topic (from the web), and concisely represents the latest news as a summary.\\n\\nImage collection summarization is another application example of automatic summarization. It consists in selecting a representative set of images from a larger set of images.[10] A summary in this context is useful to show the most representative images of results in an image collection exploration system. Video summarization is a related domain, where the system automatically creates a trailer of a long video. This also has applications in consumer or personal videos, where one might want to skip the boring or repetitive actions. Similarly, in surveillance videos, one would want to extract important and suspicious activity, while ignoring all the boring and redundant frames captured.\\n\\nAt a very high level, summarization algorithms try to find subsets of objects (like set of sentences, or a set of images), which cover information of the entire set. This is also called the core-set. These algorithms model notions like diversity, coverage, information and representativeness of the summary. Query based summarization techniques, additionally model for relevance of the summary with the query. Some techniques and algorithms which naturally model summarization problems are TextRank and PageRank, Submodular set function, Determinantal point process, maximal marginal relevance (MMR) etc.\\n\\nThe task is the following. You are given a piece of text, such as a journal article, and you must produce a list of keywords or key[phrase]s that capture the primary topics discussed in the text.[11] In the case of research articles, many authors provide manually assigned keywords, but most text lacks pre-existing keyphrases. For example, news articles rarely have keyphrases attached, but it would be useful to be able to automatically do so for a number of applications discussed below. Consider the example text from a news article:\\n\\nA keyphrase extractor might select \"Army Corps of Engineers\", \"President Bush\", \"New Orleans\", and \"defective flood-control pumps\" as keyphrases. These are pulled directly from the text. In contrast, an abstractive keyphrase system would somehow internalize the content and generate keyphrases that do not appear in the text, but more closely resemble what a human might produce, such as \"political negligence\" or \"inadequate protection from floods\". Abstraction requires a deep understanding of the text, which makes it difficult for a computer system. Keyphrases have many applications. They can enable document browsing by providing a short summary, improve information retrieval (if documents have keyphrases assigned, a user could search by keyphrase to produce more reliable hits than a full-text search), and be employed in generating index entries for a large text corpus.\\n\\nDepending on the different literature and the definition of key terms, words or phrases, keyword extraction is a highly related theme.\\n\\nBeginning with the work of Turney,[12] many researchers have approached keyphrase extraction as a supervised machine learning problem. Given a document, we construct an example for each unigram, bigram, and trigram found in the text (though other text units are also possible, as discussed below). We then compute various features describing each example (e.g., does the phrase begin with an upper-case letter?). We assume there are known keyphrases available for a set of training documents. Using the known keyphrases, we can assign positive or negative labels to the examples. Then we learn a classifier that can discriminate between positive and negative examples as a function of the features. Some classifiers make a binary classification for a test example, while others assign a probability of being a keyphrase. For instance, in the above text, we might learn a rule that says phrases with initial capital letters are likely to be keyphrases. After training a learner, we can select keyphrases for test documents in the following manner. We apply the same example-generation strategy to the test documents, then run each example through the learner. We can determine the keyphrases by looking at binary classification decisions or probabilities returned from our learned model. If probabilities are given, a threshold is used to select the keyphrases. Keyphrase extractors are generally evaluated using precision and recall. Precision measures how many of the proposed keyphrases are actually correct. Recall measures how many of the true keyphrases your system proposed. The two measures can be combined in an F-score, which is the harmonic mean of the two (F = 2PR/(P + R) ). Matches between the proposed keyphrases and the known keyphrases can be checked after stemming or applying some other text normalization.\\n\\nDesigning a supervised keyphrase extraction system involves deciding on several choices (some of these apply to unsupervised, too). The first choice is exactly how to generate examples. Turney and others have used all possible unigrams, bigrams, and trigrams without intervening punctuation and after removing stopwords. Hulth showed that you can get some improvement by selecting examples to be sequences of tokens that match certain patterns of part-of-speech tags. Ideally, the mechanism for generating examples produces all the known labeled keyphrases as candidates, though this is often not the case. For example, if we use only unigrams, bigrams, and trigrams, then we will never be able to extract a known keyphrase containing four words. Thus, recall may suffer. However, generating too many examples can also lead to low precision.\\n\\nWe also need to create features that describe the examples and are informative enough to allow a learning algorithm to discriminate keyphrases from non- keyphrases. Typically features involve various term frequencies (how many times a phrase appears in the current text or in a larger corpus), the length of the example, relative position of the first occurrence, various boolean syntactic features (e.g., contains all caps), etc. The Turney paper used about 12 such features. Hulth uses a reduced set of features, which were found most successful in the KEA (Keyphrase Extraction Algorithm) work derived from Turney\\'s seminal paper.\\n\\nIn the end, the system will need to return a list of keyphrases for a test document, so we need to have a way to limit the number. Ensemble methods (i.e., using votes from several classifiers) have been used to produce numeric scores that can be thresholded to provide a user-provided number of keyphrases. This is the technique used by Turney with C4.5 decision trees. Hulth used a single binary classifier so the learning algorithm implicitly determines the appropriate number.\\n\\nOnce examples and features are created, we need a way to learn to predict keyphrases. Virtually any supervised learning algorithm could be used, such as decision trees, Naive Bayes, and rule induction. In the case of Turney\\'s GenEx algorithm, a genetic algorithm is used to learn parameters for a domain-specific keyphrase extraction algorithm. The extractor follows a series of heuristics to identify keyphrases. The genetic algorithm optimizes parameters for these heuristics with respect to performance on training documents with known key phrases.\\n\\nAnother keyphrase extraction algorithm is TextRank. While supervised methods have some nice properties, like being able to produce interpretable rules for what features characterize a keyphrase, they also require a large amount of training data. Many documents with known keyphrases are needed. Furthermore, training on a specific domain tends to customize the extraction process to that domain, so the resulting classifier is not necessarily portable, as some of Turney\\'s results demonstrate. Unsupervised keyphrase extraction removes the need for training data. It approaches the problem from a different angle. Instead of trying to learn explicit features that characterize keyphrases, the TextRank algorithm[13] exploits the structure of the text itself to determine keyphrases that appear \"central\" to the text in the same way that PageRank selects important Web pages. Recall this is based on the notion of \"prestige\" or \"recommendation\" from social networks. In this way, TextRank does not rely on any previous training data at all, but rather can be run on any arbitrary piece of text, and it can produce output simply based on the text\\'s intrinsic properties. Thus the algorithm is easily portable to new domains and languages.\\n\\nTextRank is a general purpose graph-based ranking algorithm for NLP. Essentially, it runs PageRank on a graph specially designed for a particular NLP task. For keyphrase extraction, it builds a graph using some set of text units as vertices. Edges are based on some measure of semantic or lexical similarity between the text unit vertices. Unlike PageRank, the edges are typically undirected and can be weighted to reflect a degree of similarity. Once the graph is constructed, it is used to form a stochastic matrix, combined with a damping factor (as in the \"random surfer model\"), and the ranking over vertices is obtained by finding the eigenvector corresponding to eigenvalue 1 (i.e., the stationary distribution of the random walk on the graph).\\n\\nThe vertices should correspond to what we want to rank. Potentially, we could do something similar to the supervised methods and create a vertex for each unigram, bigram, trigram, etc. However, to keep the graph small, the authors decide to rank individual unigrams in a first step, and then include a second step that merges highly ranked adjacent unigrams to form multi-word phrases. This has a nice side effect of allowing us to produce keyphrases of arbitrary length. For example, if we rank unigrams and find that \"advanced\", \"natural\", \"language\", and \"processing\" all get high ranks, then we would look at the original text and see that these words appear consecutively and create a final keyphrase using all four together. Note that the unigrams placed in the graph can be filtered by part of speech. The authors found that adjectives and nouns were the best to include. Thus, some linguistic knowledge comes into play in this step.\\n\\nEdges are created based on word co-occurrence in this application of TextRank. Two vertices are connected by an edge if the unigrams appear within a window of size N in the original text. N is typically around 2–10. Thus, \"natural\" and \"language\" might be linked in a text about NLP. \"Natural\" and \"processing\" would also be linked because they would both appear in the same string of N words. These edges build on the notion of \"text cohesion\" and the idea that words that appear near each other are likely related in a meaningful way and \"recommend\" each other to the reader.\\n\\nSince this method simply ranks the individual vertices, we need a way to threshold or produce a limited number of keyphrases. The technique chosen is to set a count T to be a user-specified fraction of the total number of vertices in the graph. Then the top T vertices/unigrams are selected based on their stationary probabilities. A post- processing step is then applied to merge adjacent instances of these T unigrams. As a result, potentially more or less than T final keyphrases will be produced, but the number should be roughly proportional to the length of the original text.\\n\\nIt is not initially clear why applying PageRank to a co-occurrence graph would produce useful keyphrases. One way to think about it is the following. A word that appears multiple times throughout a text may have many different co-occurring neighbors. For example, in a text about machine learning, the unigram \"learning\" might co-occur with \"machine\", \"supervised\", \"un-supervised\", and \"semi-supervised\" in four different sentences. Thus, the \"learning\" vertex would be a central \"hub\" that connects to these other modifying words. Running PageRank/TextRank on the graph is likely to rank \"learning\" highly. Similarly, if the text contains the phrase \"supervised classification\", then there would be an edge between \"supervised\" and \"classification\". If \"classification\" appears several other places and thus has many neighbors, its importance would contribute to the importance of \"supervised\". If it ends up with a high rank, it will be selected as one of the top T unigrams, along with \"learning\" and probably \"classification\". In the final post-processing step, we would then end up with keyphrases \"supervised learning\" and \"supervised classification\".\\n\\nIn short, the co-occurrence graph will contain densely connected regions for terms that appear often and in different contexts. A random walk on this graph will have a stationary distribution that assigns large probabilities to the terms in the centers of the clusters. This is similar to densely connected Web pages getting ranked highly by PageRank. This approach has also been used in document summarization, considered below.\\n\\nLike keyphrase extraction, document summarization aims to identify the essence of a text. The only real difference is that now we are dealing with larger text units—whole sentences instead of words and phrases.\\n\\nBefore getting into the details of some summarization methods, we will mention how summarization systems are typically evaluated. The most common way is using the so-called ROUGE (Recall-Oriented Understudy for Gisting Evaluation) measure. This is a recall-based measure that determines how well a system-generated summary covers the content present in one or more human-generated model summaries known as references. It is recall-based to encourage systems to include all the important topics in the text. Recall can be computed with respect to unigram, bigram, trigram, or 4-gram matching. For example, ROUGE-1 is computed as division of count of unigrams in reference that appear in system and count of unigrams in reference summary.\\n\\nIf there are multiple references, the ROUGE-1 scores are averaged. Because ROUGE is based only on content overlap, it can determine if the same general concepts are discussed between an automatic summary and a reference summary, but it cannot determine if the result is coherent or the sentences flow together in a sensible manner. High-order n-gram ROUGE measures try to judge fluency to some degree. Note that ROUGE is similar to the BLEU measure for machine translation, but BLEU is precision- based, because translation systems favor accuracy.\\n\\nA promising line in document summarization is adaptive document/text summarization.[14] The idea of adaptive summarization involves preliminary recognition of document/text genre and subsequent application of summarization algorithms optimized for this genre. First summarizes that perform adaptive summarization have been created.[15]\\n\\nSupervised text summarization is very much like supervised keyphrase extraction. Basically, if you have a collection of documents and human-generated summaries for them, you can learn features of sentences that make them good candidates for inclusion in the summary. Features might include the position in the document (i.e., the first few sentences are probably important), the number of words in the sentence, etc. The main difficulty in supervised extractive summarization is that the known summaries must be manually created by extracting sentences so the sentences in an original training document can be labeled as \"in summary\" or \"not in summary\". This is not typically how people create summaries, so simply using journal abstracts or existing summaries is usually not sufficient. The sentences in these summaries do not necessarily match up with sentences in the original text, so it would be difficult to assign labels to examples for training. Note, however, that these natural summaries can still be used for evaluation purposes, since ROUGE-1 only cares about unigrams.\\n\\nDuring the DUC 2001 and 2002 evaluation workshops, TNO developed a sentence extraction system for multi-document summarization in the news domain. The system was based on a hybrid system using a naive Bayes classifier and statistical language models for modeling salience. Although the system exhibited good results, the researchers wanted to explore the effectiveness of a maximum entropy (ME) classifier for the meeting summarization task, as ME is known to be robust against feature dependencies. Maximum entropy has also been applied successfully for summarization in the broadcast news domain.\\n\\nThe unsupervised approach to summarization is also quite similar in spirit to unsupervised keyphrase extraction and gets around the issue of costly training data. Some unsupervised summarization approaches are based on finding a \"centroid\" sentence, which is the mean word vector of all the sentences in the document. Then the sentences can be ranked with regard to their similarity to this centroid sentence.\\n\\nA more principled way to estimate sentence importance is using random walks and eigenvector centrality. LexRank[16] is an algorithm essentially identical to TextRank, and both use this approach for document summarization. The two methods were developed by different groups at the same time, and LexRank simply focused on summarization, but could just as easily be used for keyphrase extraction or any other NLP ranking task.\\n\\nIn both LexRank and TextRank, a graph is constructed by creating a vertex for each sentence in the document.\\n\\nThe edges between sentences are based on some form of semantic similarity or content overlap. While LexRank uses cosine similarity of TF-IDF vectors, TextRank uses a very similar measure based on the number of words two sentences have in common (normalized by the sentences\\' lengths). The LexRank paper explored using unweighted edges after applying a threshold to the cosine values, but also experimented with using edges with weights equal to the similarity score. TextRank uses continuous similarity scores as weights.\\n\\nIn both algorithms, the sentences are ranked by applying PageRank to the resulting graph. A summary is formed by combining the top ranking sentences, using a threshold or length cutoff to limit the size of the summary.\\n\\nIt is worth noting that TextRank was applied to summarization exactly as described here, while LexRank was used as part of a larger summarization system (MEAD) that combines the LexRank score (stationary probability) with other features like sentence position and length using a linear combination with either user-specified or automatically tuned weights. In this case, some training documents might be needed, though the TextRank results show the additional features are not absolutely necessary.\\n\\nAnother important distinction is that TextRank was used for single document summarization, while LexRank has been applied to multi-document summarization. The task remains the same in both cases—only the number of sentences to choose from has grown. However, when summarizing multiple documents, there is a greater risk of selecting duplicate or highly redundant sentences to place in the same summary. Imagine you have a cluster of news articles on a particular event, and you want to produce one summary. Each article is likely to have many similar sentences, and you would only want to include distinct ideas in the summary. To address this issue, LexRank applies a heuristic post-processing step that builds up a summary by adding sentences in rank order, but discards any sentences that are too similar to ones already placed in the summary. The method used is called Cross-Sentence Information Subsumption (CSIS).\\n\\nThese methods work based on the idea that sentences \"recommend\" other similar sentences to the reader. Thus, if one sentence is very similar to many others, it will likely be a sentence of great importance. The importance of this sentence also stems from the importance of the sentences \"recommending\" it. Thus, to get ranked highly and placed in a summary, a sentence must be similar to many sentences that are in turn also similar to many other sentences. This makes intuitive sense and allows the algorithms to be applied to any arbitrary new text. The methods are domain-independent and easily portable. One could imagine the features indicating important sentences in the news domain might vary considerably from the biomedical domain. However, the unsupervised \"recommendation\"-based approach applies to any domain.\\n\\nMulti-document summarization is an automatic procedure aimed at extraction of information from multiple texts written about the same topic. Resulting summary report allows individual users, such as professional information consumers, to quickly familiarize themselves with information contained in a large cluster of documents. In such a way, multi-document summarization systems are complementing the news aggregators performing the next step down the road of coping with information overload. Multi-document summarization may also be done in response to a question.[17][8]\\n\\nMulti-document summarization creates information reports that are both concise and comprehensive. With different opinions being put together and outlined, every topic is described from multiple perspectives within a single document. While the goal of a brief summary is to simplify information search and cut the time by pointing to the most relevant source documents, comprehensive multi-document summary should itself contain the required information, hence limiting the need for accessing original files to cases when refinement is required. Automatic summaries present information extracted from multiple sources algorithmically, without any editorial touch or subjective human intervention, thus making it completely unbiased.[dubious – discuss]\\n\\nMulti-document extractive summarization faces a problem of potential redundancy. Ideally, we would like to extract sentences that are both \"central\" (i.e., contain the main ideas) and \"diverse\" (i.e., they differ from one another). LexRank deals with diversity as a heuristic final stage using CSIS, and other systems have used similar methods, such as Maximal Marginal Relevance (MMR),[18] in trying to eliminate redundancy in information retrieval results. There is a general purpose graph-based ranking algorithm like Page/Lex/TextRank that handles both \"centrality\" and \"diversity\" in a unified mathematical framework based on absorbing Markov chain random walks. (An absorbing random walk is like a standard random walk, except some states are now absorbing states that act as \"black holes\" that cause the walk to end abruptly at that state.) The algorithm is called GRASSHOPPER.[19] In addition to explicitly promoting diversity during the ranking process, GRASSHOPPER incorporates a prior ranking (based on sentence position in the case of summarization).\\n\\nThe state of the art results for multi-document summarization, however, are obtained using mixtures of submodular functions. These methods have achieved the state of the art results for Document Summarization Corpora, DUC 04 - 07.[20] Similar results were also achieved with the use of determinantal point processes (which are a special case of submodular functions) for DUC-04.[21]\\n\\nA new method for multi-lingual multi-document summarization that avoids redundancy works by simplifying and generating ideograms that represent the meaning of each sentence in each document and then evaluates similarity \"qualitatively\" by comparing the shape and position of said ideograms has recently been developed. This tool does not use word frequency, does not need training or preprocessing of any kind and works by generating ideograms that represent the meaning of each sentence and then summarizes using two user-supplied parameters: equivalence (when are two sentences to be considered equivalent) and relevance (how long is the desired summary).\\n\\nThe idea of a submodular set function has recently emerged as a powerful modeling tool for various summarization problems. Submodular functions naturally model notions of coverage, information, representation and diversity. Moreover, several important combinatorial optimization problems occur as special instances of submodular optimization. For example, the set cover problem is a special case of submodular optimization, since the set cover function is submodular. The set cover function attempts to find a subset of objects which cover a given set of concepts. For example, in document summarization, one would like the summary to cover all important and relevant concepts in the document. This is an instance of set cover. Similarly, the facility location problem is a special case of submodular functions. The Facility Location function also naturally models coverage and diversity. Another example of a submodular optimization problem is using a determinantal point process to model diversity. Similarly, the Maximum-Marginal-Relevance procedure can also be seen as an instance of submodular optimization. All these important models encouraging coverage, diversity and information are all submodular. Moreover, submodular functions can be efficiently combined, and the resulting function is still submodular. Hence, one could combine one submodular function which models diversity, another one which models coverage and use human supervision to learn a right model of a submodular function for the problem.\\n\\nWhile submodular functions are fitting problems for summarization, they also admit very efficient algorithms for optimization. For example, a simple greedy algorithm admits a constant factor guarantee.[22] Moreover, the greedy algorithm is extremely simple to implement and can scale to large datasets, which is very important for summarization problems.\\n\\nSubmodular functions have achieved state-of-the-art for almost all summarization problems. For example, work by Lin and Bilmes, 2012[23] shows that submodular functions achieve the best results to date on DUC-04, DUC-05, DUC-06 and DUC-07 systems for document summarization. Similarly, work by Lin and Bilmes, 2011,[24] shows that many existing systems for automatic summarization are instances of submodular functions. This was a breakthrough result establishing submodular functions as the right models for summarization problems.[citation needed]\\n\\nSubmodular Functions have also been used for other summarization tasks. Tschiatschek et al., 2014 show[25] that mixtures of submodular functions achieve state-of-the-art results for image collection summarization. Similarly, Bairi et al., 2015[26] show the utility of submodular functions for summarizing multi-document topic hierarchies. Submodular Functions have also successfully been used for summarizing machine learning datasets.[27]\\n• The Reddit bot \"autotldr\",[28] created in 2011 summarizes news articles in the comment-section of reddit posts. It was found to be very useful by the reddit community which upvoted its summaries hundreds of thousands of times.[29] The name is reference to TL;DR − Internet slang for \"too long; didn\\'t read\".[30][31]\\n\\nThe most common way to evaluate the informativeness of automatic summaries is to compare them with human-made model summaries.\\n\\nEvaluation techniques fall into intrinsic and extrinsic,[32] inter-textual and intra-textual.[33]\\n\\nAn intrinsic evaluation tests the summarization system in and of itself while an extrinsic evaluation tests the summarization based on how it affects the completion of some other task. Intrinsic evaluations have assessed mainly the coherence and informativeness of summaries. Extrinsic evaluations, on the other hand, have tested the impact of summarization on tasks like relevance assessment, reading comprehension, etc.\\n\\nIntra-textual methods assess the output of a specific summarization system, and the inter-textual ones focus on contrastive analysis of outputs of several summarization systems.\\n\\nHuman judgement often has wide variance on what is considered a \"good\" summary, which means that making the evaluation process automatic is particularly difficult. Manual evaluation can be used, but this is both time and labor-intensive as it requires humans to read not only the summaries but also the source documents. Other issues are those concerning coherence and coverage.\\n\\nOne of the metrics used in NIST\\'s annual Document Understanding Conferences, in which research groups submit their systems for both summarization and translation tasks, is the ROUGE metric (Recall-Oriented Understudy for Gisting Evaluation [2]). It essentially calculates n-gram overlaps between automatically generated summaries and previously written human summaries. A high level of overlap should indicate a high level of shared concepts between the two summaries. Note that overlap metrics like this are unable to provide any feedback on a summary\\'s coherence. Anaphor resolution remains another problem yet to be fully solved. Similarly, for image summarization, Tschiatschek et al., developed a Visual-ROUGE score which judges the performance of algorithms for image summarization.[34]\\n\\nDomain independent summarization techniques generally apply sets of general features which can be used to identify information-rich text segments. Recent research focus has drifted to domain-specific summarization techniques that utilize the available knowledge specific to the domain of text. For example, automatic summarization research on medical text generally attempts to utilize the various sources of codified medical knowledge and ontologies.[35]\\n\\nThe main drawback of the evaluation systems existing so far is that we need at least one reference summary, and for some methods more than one, to be able to compare automatic summaries with models. This is a hard and expensive task. Much effort has to be done in order to have corpus of texts and their corresponding summaries. Furthermore, for some methods, not only do we need to have human-made summaries available for comparison, but also manual annotation has to be performed in some of them (e.g. SCU in the Pyramid Method). In any case, what the evaluation methods need as an input, is a set of summaries to serve as gold standards and a set of automatic summaries. Moreover, they all perform a quantitative evaluation with regard to different similarity metrics.\\n\\nThe first publication in the area dates back to 1957 [36] (Hans Peter Luhn), starting with a statistical technique. Research increased significantly in 2015. Term frequency–inverse document frequency had been used by 2016. Pattern-based summarization was the most powerful option for multi-document summarization found by 2016. In the following year it was surpassed by latent semantic analysis (LSA) combined with non-negative matrix factorization (NMF). Although they did not replace other approaches and are often combined with them, by 2019 machine learning methods dominated the extractive summarization of single documents, which was considered to be nearing maturity. By 2020, the field was still very active and research is shifting towards abstractive summation and real-time summarization.[37]\\n\\nRecently the rise of Transformer models replacing more traditional RNN (LSTM) have provided a flexibility in the mapping of text sequences to text sequences of a different type, which is well suited to automatic summarization. This includes models such as T5[38] and Pegasus.\\n• None Roxana, Angheluta (2002). The Use of Topic Segmentation for Automatic Summarization.\\n• None Elena, Lloret and Manuel, Palomar (2009). Challenging Issues of Automatic Summarization: Relevance Detection and Quality-based Evaluation.\\n• None Alrehamy, Hassan (2017). \"SemCluster: Unsupervised Automatic Keyphrase Extraction Using Affinity Propagation\". Automatic Keyphrases Extraction. Advances in Intelligent Systems and Computing. Vol. 650. pp. 222–235. doi:10.1007/978-3-319-66939-7_19. ISBN .\\n• None Marcu, Daniel (2000). The Theory and Practice of Discourse Parsing and Summarization. ISBN .\\n• , Published in Proceeding RIAO\\'10 Adaptivity, Personalization and Fusion of Heterogeneous Information, CID Paris, France\\n• None Xiaojin, Zhu, Andrew Goldberg, Jurgen Van Gael, and David Andrzejewski (2007). Improving diversity in ranking using absorbing random walks . , The GRASSHOPPER algorithm\\n• None Miranda-Jiménez, Sabino, Gelbukh, Alexander, and Sidorov, Grigori (2013). \"Summarizing Conceptual Graphs for Automatic Summarization Task\". Conceptual Structures for STEM Research and Education. Lecture Notes in Computer Science. Vol. 7735. pp. 245–253. doi:10.1007/978-3-642-35786-2_18. ISBN . , Conceptual Structures for STEM Research and Education.',\n",
              " 'opengraph': {'title': 'Automatic summarization - Wikipedia',\n",
              "  'type': 'website'},\n",
              " 'tags': [],\n",
              " 'tweets': [],\n",
              " 'movies': [],\n",
              " 'links': ['/wiki/File:Question_book-new.svg',\n",
              "  '/wiki/Wikipedia:Verifiability',\n",
              "  '//www.google.com/search?as_eq=wikipedia&q=%22Automatic+summarization%22',\n",
              "  '//www.google.com/search?tbm=nws&q=%22Automatic+summarization%22+-wikipedia&tbs=ar:1',\n",
              "  '//www.google.com/search?&q=%22Automatic+summarization%22&tbs=bkt:s&tbm=bks',\n",
              "  '//www.google.com/search?tbs=bks:1&q=%22Automatic+summarization%22+-wikipedia',\n",
              "  '//scholar.google.com/scholar?q=%22Automatic+summarization%22',\n",
              "  'https://www.jstor.org/action/doBasicSearch?Query=%22Automatic+summarization%22&acc=on&wc=on',\n",
              "  'https://en.wikipedia.org/w/index.php?title=Automatic_summarization&action=edit',\n",
              "  '/wiki/Help:Referencing_for_beginners',\n",
              "  '/wiki/Help:Maintenance_template_removal',\n",
              "  '/wiki/Abstract_(summary)',\n",
              "  '#cite_note-Torres2014-1',\n",
              "  '#cite_note-2',\n",
              "  '#cite_note-3',\n",
              "  '#cite_note-4',\n",
              "  '#cite_note-PalPetrosino2012-5',\n",
              "  '#Commercial_products',\n",
              "  '#Approaches',\n",
              "  '#Extraction-based_summarization',\n",
              "  '#Abstractive-based_summarization',\n",
              "  '#Aided_summarization',\n",
              "  '#Applications_and_systems_for_summarization',\n",
              "  '#Keyphrase_extraction',\n",
              "  '#Supervised_learning_approaches',\n",
              "  '#Unsupervised_approach:_TextRank',\n",
              "  '#Document_summarization',\n",
              "  '#Supervised_learning_approaches_2',\n",
              "  '#Maximum_entropy-based_summarization',\n",
              "  '#TextRank_and_LexRank',\n",
              "  '#Multi-document_summarization',\n",
              "  '#Incorporating_diversity',\n",
              "  '#Submodular_functions_as_generic_tools_for_summarization',\n",
              "  '#Applications',\n",
              "  '#Evaluation_techniques',\n",
              "  '#Intrinsic_and_extrinsic_evaluation',\n",
              "  '#Inter-textual_and_intra-textual',\n",
              "  '#Domain_specific_versus_domain_independent_summarization_techniques',\n",
              "  '#Evaluating_summaries_qualitatively',\n",
              "  '#History',\n",
              "  '#Recent_approaches',\n",
              "  '#See_also',\n",
              "  '#References',\n",
              "  '#Further_reading',\n",
              "  '/w/index.php?title=Automatic_summarization&action=edit&section=1',\n",
              "  '/wiki/Google_Docs',\n",
              "  '#cite_note-6',\n",
              "  '/w/index.php?title=Automatic_summarization&action=edit&section=2',\n",
              "  '/wiki/Information_extraction',\n",
              "  '/wiki/Abstract_(summary)',\n",
              "  '/w/index.php?title=Automatic_summarization&action=edit&section=3',\n",
              "  '#cite_note-7',\n",
              "  '#cite_note-Afzal_et_al-8',\n",
              "  '/w/index.php?title=Automatic_summarization&action=edit&section=4',\n",
              "  '#cite_note-9',\n",
              "  '/wiki/Automated_paraphrasing',\n",
              "  '/wiki/Natural_language_processing',\n",
              "  '/w/index.php?title=Automatic_summarization&action=edit&section=5',\n",
              "  '/w/index.php?title=Automatic_summarization&action=edit&section=6',\n",
              "  '/wiki/Cluster_analysis',\n",
              "  '/wiki/Multi-document_summarization',\n",
              "  '#cite_note-10',\n",
              "  '/wiki/Image_collection_exploration',\n",
              "  '/wiki/Submodular_set_function',\n",
              "  '/wiki/Determinantal_point_process',\n",
              "  '/w/index.php?title=Automatic_summarization&action=edit&section=7',\n",
              "  '#cite_note-11',\n",
              "  '/wiki/Research_article',\n",
              "  '/wiki/Natural-language_understanding',\n",
              "  '/wiki/Information_retrieval',\n",
              "  '/wiki/Full-text_search',\n",
              "  '/wiki/Keyword_extraction',\n",
              "  '/w/index.php?title=Automatic_summarization&action=edit&section=8',\n",
              "  '#cite_note-12',\n",
              "  '/wiki/Supervised_machine_learning',\n",
              "  '/wiki/Unigram',\n",
              "  '/wiki/Bigram',\n",
              "  '/wiki/Binary_classification',\n",
              "  '/wiki/Naive_Bayes',\n",
              "  '/wiki/Genetic_algorithm',\n",
              "  '/w/index.php?title=Automatic_summarization&action=edit&section=9',\n",
              "  '/wiki/Training_set',\n",
              "  '#cite_note-13',\n",
              "  '/wiki/PageRank',\n",
              "  '/wiki/Social_network',\n",
              "  '/wiki/Graph_(abstract_data_type)',\n",
              "  '/wiki/Natural_language_processing',\n",
              "  '/wiki/Lexical_(semiotics)',\n",
              "  '/wiki/Semantic_similarity',\n",
              "  '/wiki/Eigenvalue',\n",
              "  '/wiki/Stationary_distribution',\n",
              "  '/wiki/Random_walk',\n",
              "  '/wiki/Co-occurrence',\n",
              "  '/wiki/Unigram',\n",
              "  '/wiki/Cohesion_(linguistics)',\n",
              "  '/w/index.php?title=Automatic_summarization&action=edit&section=10',\n",
              "  '/wiki/ROUGE_(metric)',\n",
              "  '#cite_note-14',\n",
              "  '#cite_note-15',\n",
              "  '/w/index.php?title=Automatic_summarization&action=edit&section=11',\n",
              "  '/w/index.php?title=Automatic_summarization&action=edit&section=12',\n",
              "  '/wiki/Netherlands_Organisation_for_Applied_Scientific_Research',\n",
              "  '/wiki/Naive_Bayes',\n",
              "  '/wiki/Maximum_entropy_classifier',\n",
              "  '/w/index.php?title=Automatic_summarization&action=edit&section=13',\n",
              "  '/wiki/Centroid',\n",
              "  '#cite_note-16',\n",
              "  '/wiki/Cosine_similarity',\n",
              "  '/wiki/TF-IDF',\n",
              "  '/wiki/Quantile_normalization',\n",
              "  '/wiki/Similarity_score',\n",
              "  '/w/index.php?title=MEAD&action=edit&redlink=1',\n",
              "  '/wiki/Linear_combination',\n",
              "  '/w/index.php?title=Automatic_summarization&action=edit&section=14',\n",
              "  '/wiki/Multi-document_summarization',\n",
              "  '/wiki/News_aggregators',\n",
              "  '/wiki/Information_overload',\n",
              "  '#cite_note-17',\n",
              "  '#cite_note-Afzal_et_al-8',\n",
              "  '/wiki/Wikipedia:Accuracy_dispute#Disputed_statement',\n",
              "  '/wiki/Talk:Automatic_summarization#Dubious',\n",
              "  '/w/index.php?title=Automatic_summarization&action=edit&section=15',\n",
              "  '#cite_note-18',\n",
              "  '/wiki/Absorbing_Markov_chain',\n",
              "  '#cite_note-19',\n",
              "  '#cite_note-20',\n",
              "  '#cite_note-21',\n",
              "  '/w/index.php?title=Automatic_summarization&action=edit&section=16',\n",
              "  '/wiki/Submodular_set_function',\n",
              "  '/wiki/Combinatorial_optimization',\n",
              "  '/wiki/Set_cover_problem',\n",
              "  '/wiki/Facility_location_problem',\n",
              "  '/wiki/Determinantal_point_process',\n",
              "  '/wiki/Greedy_algorithm',\n",
              "  '#cite_note-22',\n",
              "  '#cite_note-23',\n",
              "  '#cite_note-24',\n",
              "  '/wiki/Wikipedia:Citation_needed',\n",
              "  '#cite_note-25',\n",
              "  '#cite_note-26',\n",
              "  '#cite_note-27',\n",
              "  '/w/index.php?title=Automatic_summarization&action=edit&section=17',\n",
              "  '/wiki/File:Wiki_letter_w_cropped.svg',\n",
              "  'https://en.wikipedia.org/w/index.php?title=Automatic_summarization&action=edit&section=',\n",
              "  '/wiki/Reddit',\n",
              "  '/wiki/Internet_bot',\n",
              "  '#cite_note-28',\n",
              "  '#cite_note-29',\n",
              "  '/wiki/TL;DR',\n",
              "  '/wiki/Internet_slang',\n",
              "  '#cite_note-30',\n",
              "  '#cite_note-31',\n",
              "  '/w/index.php?title=Automatic_summarization&action=edit&section=18',\n",
              "  '#cite_note-32',\n",
              "  '#cite_note-33',\n",
              "  '/w/index.php?title=Automatic_summarization&action=edit&section=19',\n",
              "  '/w/index.php?title=Automatic_summarization&action=edit&section=20',\n",
              "  '/wiki/Coherence_(linguistics)',\n",
              "  '/wiki/NIST',\n",
              "  'https://web.archive.org/web/20060408135021/http://haydn.isi.edu/ROUGE/',\n",
              "  '/wiki/N-gram',\n",
              "  '/wiki/Anaphora_(linguistics)',\n",
              "  '#cite_note-34',\n",
              "  '/w/index.php?title=Automatic_summarization&action=edit&section=21',\n",
              "  '#cite_note-35',\n",
              "  '/w/index.php?title=Automatic_summarization&action=edit&section=22',\n",
              "  '/w/index.php?title=Automatic_summarization&action=edit&section=23',\n",
              "  '#cite_note-36',\n",
              "  '/wiki/Hans_Peter_Luhn',\n",
              "  '/wiki/Term_frequency%E2%80%93inverse_document_frequency',\n",
              "  '/wiki/Latent_semantic_analysis',\n",
              "  '/wiki/Non-negative_matrix_factorization',\n",
              "  '#cite_note-37',\n",
              "  '/w/index.php?title=Automatic_summarization&action=edit&section=24',\n",
              "  '/wiki/Transformer_(machine_learning_model)',\n",
              "  '/wiki/Rnn_(software)',\n",
              "  '/wiki/LSTM',\n",
              "  '#cite_note-38',\n",
              "  '/w/index.php?title=Automatic_summarization&action=edit&section=25',\n",
              "  '/wiki/Sentence_extraction',\n",
              "  '/wiki/Text_mining',\n",
              "  '/wiki/Multi-document_summarization',\n",
              "  '/w/index.php?title=Automatic_summarization&action=edit&section=26',\n",
              "  '#cite_ref-Torres2014_1-0',\n",
              "  'https://www.wiley.com/en-gb/Automatic+Text+Summarization-p-9781848216686',\n",
              "  '/wiki/ISBN_(identifier)',\n",
              "  '/wiki/Special:BookSources/978-1-848-21668-6',\n",
              "  '#cite_ref-2',\n",
              "  '/wiki/Doi_(identifier)',\n",
              "  'https://doi.org/10.1109%2Ftvcg.2019.2948611',\n",
              "  '/wiki/ISSN_(identifier)',\n",
              "  '//www.worldcat.org/issn/1077-2626',\n",
              "  '/wiki/PMID_(identifier)',\n",
              "  '//pubmed.ncbi.nlm.nih.gov/31647438',\n",
              "  '/wiki/S2CID_(identifier)',\n",
              "  'https://api.semanticscholar.org/CorpusID:204865221',\n",
              "  '#cite_ref-3',\n",
              "  'https://www.proquest.com/docview/1986931333',\n",
              "  '/wiki/ProQuest_(identifier)',\n",
              "  'https://search.proquest.com/docview/1986931333',\n",
              "  '#cite_ref-4',\n",
              "  '/wiki/Doi_(identifier)',\n",
              "  'https://doi.org/10.1109%2Fmcg.2011.89',\n",
              "  '/wiki/ISSN_(identifier)',\n",
              "  '//www.worldcat.org/issn/0272-1716',\n",
              "  '/wiki/PMID_(identifier)',\n",
              "  '//pubmed.ncbi.nlm.nih.gov/24808292',\n",
              "  '/wiki/S2CID_(identifier)',\n",
              "  'https://api.semanticscholar.org/CorpusID:7668289',\n",
              "  '#cite_ref-PalPetrosino2012_5-0',\n",
              "  'https://books.google.com/books?id=O0fNBQAAQBAJ&q=video+surveillance+summarization&pg=PA81',\n",
              "  '/wiki/ISBN_(identifier)',\n",
              "  '/wiki/Special:BookSources/978-1-4398-5685-7',\n",
              "  '#cite_ref-6',\n",
              "  'http://ai.googleblog.com/2022/03/auto-generated-summaries-in-google-docs.html',\n",
              "  '#cite_ref-7',\n",
              "  'https://www.dummies.com/education/language-arts/speed-reading/how-to-skim-text/',\n",
              "  '#cite_ref-Afzal_et_al_8-0',\n",
              "  '#cite_ref-Afzal_et_al_8-1',\n",
              "  'https://www.jmir.org/2020/10/e19810/',\n",
              "  '#cite_ref-9',\n",
              "  'https://www.worldcat.org/oclc/957355971',\n",
              "  '/wiki/ISBN_(identifier)',\n",
              "  '/wiki/Special:BookSources/978-1-970001-19-8',\n",
              "  '/wiki/OCLC_(identifier)',\n",
              "  '//www.worldcat.org/oclc/957355971',\n",
              "  '#cite_ref-10',\n",
              "  '/wiki/Doi_(identifier)',\n",
              "  'https://doi.org/10.1007%2F978-3-642-10268-4_64',\n",
              "  '#cite_ref-11',\n",
              "  '/wiki/Doi_(identifier)',\n",
              "  'https://doi.org/10.1007%2F978-3-319-66939-7_19',\n",
              "  '/wiki/ISBN_(identifier)',\n",
              "  '/wiki/Special:BookSources/978-3-319-66938-0',\n",
              "  '#cite_ref-12',\n",
              "  '/wiki/ArXiv_(identifier)',\n",
              "  '//arxiv.org/abs/cs/0212020',\n",
              "  '/wiki/Bibcode_(identifier)',\n",
              "  'https://ui.adsabs.harvard.edu/abs/2002cs.......12020T',\n",
              "  '/wiki/Doi_(identifier)',\n",
              "  'https://doi.org/10.1023%2FA%3A1009976227802',\n",
              "  '/wiki/S2CID_(identifier)',\n",
              "  'https://api.semanticscholar.org/CorpusID:7007323',\n",
              "  '#cite_ref-13',\n",
              "  'https://web.archive.org/web/20120617170501/http://acl.ldc.upenn.edu/acl2004/emnlp/pdf/Mihalcea.pdf',\n",
              "  '#cite_ref-14',\n",
              "  '/wiki/Doi_(identifier)',\n",
              "  'https://doi.org/10.3103%2FS0005105510030027',\n",
              "  '/wiki/S2CID_(identifier)',\n",
              "  'https://api.semanticscholar.org/CorpusID:1586931',\n",
              "  '#cite_ref-15',\n",
              "  'http://yatsko.zohosites.com/universal-summarizer-unis.html',\n",
              "  '#cite_ref-16',\n",
              "  'https://www.cs.cmu.edu/afs/cs/project/jair/pub/volume22/erkan04a-html/erkan04a.html',\n",
              "  '#cite_ref-17',\n",
              "  'https://www.academia.edu/2475776/Versatile_question_answering_systems_seeing_in_synthesis',\n",
              "  '#cite_ref-18',\n",
              "  'https://www.cs.cmu.edu/afs/.cs.cmu.edu/Web/People/jgc/publication/MMR_DiversityBased_Reranking_SIGIR_1998.pdf',\n",
              "  '#cite_ref-19',\n",
              "  'http://www.aclweb.org/anthology/N07-1013',\n",
              "  '#cite_ref-20',\n",
              "  'https://arxiv.org/abs/1210.4871',\n",
              "  '#cite_ref-21',\n",
              "  'http://www.nowpublishers.com/article/DownloadSummary/MAL-044',\n",
              "  '#cite_ref-22',\n",
              "  '#cite_ref-23',\n",
              "  'https://arxiv.org/abs/1210.4871',\n",
              "  '#cite_ref-24',\n",
              "  'http://www.aclweb.org/anthology/P11-1052',\n",
              "  '#cite_ref-25',\n",
              "  'http://papers.nips.cc/paper/5415-learning-mixtures-of-submodular-functions-for-image-collection-summarization.pdf',\n",
              "  '#cite_ref-26',\n",
              "  'http://www.aclweb.org/anthology/P15-1054',\n",
              "  '#cite_ref-27',\n",
              "  'http://www.jmlr.org/proceedings/papers/v37/wei15.pdf',\n",
              "  '#cite_ref-28',\n",
              "  'https://www.reddit.com/user/autotldr',\n",
              "  '#cite_ref-29',\n",
              "  '/wiki/Megan_Squire',\n",
              "  'https://books.google.com/books?id=_qXWDQAAQBAJ&pg=PA185',\n",
              "  '/wiki/ISBN_(identifier)',\n",
              "  '/wiki/Special:BookSources/9781785885914',\n",
              "  '#cite_ref-30',\n",
              "  'https://www.lifewire.com/what-is-tldr-2483633',\n",
              "  '#cite_ref-31',\n",
              "  'http://www.ibtimes.com/what-does-tldr-mean-ama-til-glossary-reddit-terms-abbreviations-431704',\n",
              "  '#cite_ref-32',\n",
              "  'http://research.nii.ac.jp/ntcir/workshop/OnlineProceedings2/sum-mani.pdf',\n",
              "  '#cite_ref-33',\n",
              "  '/wiki/Doi_(identifier)',\n",
              "  'https://doi.org/10.3103%2FS0005105507030041',\n",
              "  '/wiki/S2CID_(identifier)',\n",
              "  'https://api.semanticscholar.org/CorpusID:7853204',\n",
              "  '#cite_ref-34',\n",
              "  'http://papers.nips.cc/paper/5415-learning-mixtures-of-submodular-functions-for-image-collection-summarization.pdf',\n",
              "  '#cite_ref-35',\n",
              "  '/wiki/Doi_(identifier)',\n",
              "  'https://doi.org/10.1007%2F978-3-642-38326-7_41',\n",
              "  '/wiki/ISBN_(identifier)',\n",
              "  '/wiki/Special:BookSources/978-3-642-38325-0',\n",
              "  '#cite_ref-36',\n",
              "  '#cite_ref-37',\n",
              "  'https://doi.org/10.1016%2Fj.jksuci.2020.05.006',\n",
              "  '/wiki/Doi_(identifier)',\n",
              "  'https://doi.org/10.1016%2Fj.jksuci.2020.05.006',\n",
              "  '/wiki/ISSN_(identifier)',\n",
              "  '//www.worldcat.org/issn/1319-1578',\n",
              "  '#cite_ref-38',\n",
              "  'http://ai.googleblog.com/2020/02/exploring-transfer-learning-with-t5.html',\n",
              "  '/w/index.php?title=Automatic_summarization&action=edit&section=27',\n",
              "  'https://www.researchgate.net/publication/277288103',\n",
              "  'https://www.researchgate.net/publication/2553088',\n",
              "  'https://www.cs.ru.nl/~kraaijw/pubs/Biblio/papers/meeting_sum_tno.pdf',\n",
              "  'https://repository.upenn.edu/cgi/viewcontent.cgi?article=1762&context=cis_papers',\n",
              "  'http://www.informatica.si/ojs-2.4.3/index.php/informatica/article/download/273/269',\n",
              "  '/wiki/Doi_(identifier)',\n",
              "  'https://doi.org/10.1007%2F978-3-319-66939-7_19',\n",
              "  '/wiki/ISBN_(identifier)',\n",
              "  '/wiki/Special:BookSources/978-3-319-66938-0',\n",
              "  'https://archive.org/details/springer_10.1007-978-3-642-72025-3',\n",
              "  '/wiki/ISBN_(identifier)',\n",
              "  '/wiki/Special:BookSources/978-3-540-63735-6',\n",
              "  '/wiki/ISBN_(identifier)',\n",
              "  '/wiki/Special:BookSources/978-0-262-13372-2',\n",
              "  '/wiki/ISBN_(identifier)',\n",
              "  '/wiki/Special:BookSources/978-1-58811-060-2',\n",
              "  'http://www.jason-huff.com/projects/autosummarize/',\n",
              "  'http://portal.acm.org/citation.cfm?id=1937055.1937111&coll=DL&dl=GUIDE&CFID=23185814&CFTOKEN=40272014/',\n",
              "  'http://pages.cs.wisc.edu/~jerryzhu/pub/grasshopper.pdf',\n",
              "  '/wiki/Doi_(identifier)',\n",
              "  'https://doi.org/10.1007%2F978-3-642-35786-2_18',\n",
              "  '/wiki/ISBN_(identifier)',\n",
              "  '/wiki/Special:BookSources/978-3-642-35785-5',\n",
              "  '/wiki/Natural_language_processing',\n",
              "  '/wiki/AI-complete',\n",
              "  '/wiki/Bag-of-words_model',\n",
              "  '/wiki/N-gram',\n",
              "  '/wiki/Bigram',\n",
              "  '/wiki/Trigram',\n",
              "  '/wiki/Computational_linguistics',\n",
              "  '/wiki/Natural-language_understanding',\n",
              "  '/wiki/Stop_word',\n",
              "  '/wiki/Text_processing',\n",
              "  '/wiki/Text_mining',\n",
              "  '/wiki/Collocation_extraction',\n",
              "  '/wiki/Concept_mining',\n",
              "  '/wiki/Coreference#Coreference_resolution',\n",
              "  '/wiki/Deep_linguistic_processing',\n",
              "  '/wiki/Distant_reading',\n",
              "  '/wiki/Information_extraction',\n",
              "  '/wiki/Named-entity_recognition',\n",
              "  '/wiki/Ontology_learning',\n",
              "  '/wiki/Parsing',\n",
              "  '/wiki/Part-of-speech_tagging',\n",
              "  '/wiki/Semantic_role_labeling',\n",
              "  '/wiki/Semantic_similarity',\n",
              "  '/wiki/Sentiment_analysis',\n",
              "  '/wiki/Terminology_extraction',\n",
              "  '/wiki/Text_mining',\n",
              "  '/wiki/Textual_entailment',\n",
              "  '/wiki/Truecasing',\n",
              "  '/wiki/Word-sense_disambiguation',\n",
              "  '/wiki/Word-sense_induction',\n",
              "  '/wiki/Text_segmentation',\n",
              "  '/wiki/Compound-term_processing',\n",
              "  '/wiki/Lemmatisation',\n",
              "  '/wiki/Lexical_analysis',\n",
              "  '/wiki/Shallow_parsing',\n",
              "  '/wiki/Stemming',\n",
              "  '/wiki/Sentence_boundary_disambiguation',\n",
              "  '/wiki/Word#Word_boundaries',\n",
              "  '/wiki/Multi-document_summarization',\n",
              "  '/wiki/Sentence_extraction',\n",
              "  '/wiki/Text_simplification',\n",
              "  '/wiki/Machine_translation',\n",
              "  '/wiki/Computer-assisted_translation',\n",
              "  '/wiki/Example-based_machine_translation',\n",
              "  '/wiki/Rule-based_machine_translation',\n",
              "  '/wiki/Statistical_machine_translation',\n",
              "  '/wiki/Transfer-based_machine_translation',\n",
              "  '/wiki/Neural_machine_translation',\n",
              "  '/wiki/Distributional_semantics',\n",
              "  '/wiki/BERT_(language_model)',\n",
              "  '/wiki/Document-term_matrix',\n",
              "  '/wiki/Explicit_semantic_analysis',\n",
              "  '/wiki/FastText',\n",
              "  '/wiki/GloVe',\n",
              "  '/wiki/Latent_semantic_analysis',\n",
              "  '/wiki/Word_embedding',\n",
              "  '/wiki/Word2vec',\n",
              "  '/wiki/Language_resource',\n",
              "  '/wiki/Corpus_linguistics',\n",
              "  '/wiki/Lexical_resource',\n",
              "  '/wiki/Linguistic_Linked_Open_Data',\n",
              "  '/wiki/Machine-readable_dictionary',\n",
              "  '/wiki/Parallel_text',\n",
              "  '/wiki/PropBank',\n",
              "  '/wiki/Semantic_network',\n",
              "  '/wiki/Simple_Knowledge_Organization_System',\n",
              "  '/wiki/Speech_corpus',\n",
              "  '/wiki/Text_corpus',\n",
              "  '/wiki/Thesaurus_(information_retrieval)',\n",
              "  '/wiki/Treebank',\n",
              "  '/wiki/Universal_Dependencies',\n",
              "  '/wiki/BabelNet',\n",
              "  '/wiki/Bank_of_English',\n",
              "  '/wiki/DBpedia',\n",
              "  '/wiki/FrameNet',\n",
              "  '/wiki/Google_Ngram_Viewer',\n",
              "  '/wiki/ThoughtTreasure',\n",
              "  '/wiki/UBY',\n",
              "  '/wiki/WordNet',\n",
              "  '/wiki/Automatic_identification_and_data_capture',\n",
              "  '/wiki/Speech_recognition',\n",
              "  '/wiki/Speech_segmentation',\n",
              "  '/wiki/Speech_synthesis',\n",
              "  '/wiki/Natural_language_generation',\n",
              "  '/wiki/Optical_character_recognition',\n",
              "  '/wiki/Topic_model',\n",
              "  '/wiki/Document_classification',\n",
              "  '/wiki/Latent_Dirichlet_allocation',\n",
              "  '/wiki/Pachinko_allocation',\n",
              "  '/wiki/Computer-assisted_reviewing',\n",
              "  '/wiki/Automated_essay_scoring',\n",
              "  '/wiki/Concordancer',\n",
              "  '/wiki/Grammar_checker',\n",
              "  '/wiki/Predictive_text',\n",
              "  '/wiki/Spell_checker',\n",
              "  '/wiki/Syntax_guessing',\n",
              "  '/wiki/Natural_language_user_interface',\n",
              "  '/wiki/Chatbot',\n",
              "  '/wiki/Interactive_fiction',\n",
              "  '/wiki/Question_answering',\n",
              "  '/wiki/Virtual_assistant',\n",
              "  '/wiki/Voice_user_interface',\n",
              "  '/wiki/Natural_Language_Toolkit',\n",
              "  '/wiki/SpaCy'],\n",
              " 'authors': [],\n",
              " 'publish_date': None}"
            ]
          },
          "metadata": {},
          "execution_count": 34
        }
      ]
    },
    {
      "cell_type": "code",
      "metadata": {
        "id": "n20NHvkM-aSX"
      },
      "source": [
        "text=article.cleaned_text"
      ],
      "execution_count": 35,
      "outputs": []
    },
    {
      "cell_type": "code",
      "metadata": {
        "colab": {
          "base_uri": "https://localhost:8080/",
          "height": 174
        },
        "id": "yDJGNV7e-_0I",
        "outputId": "00f6f50a-66c3-4410-e272-119b1edebcaa"
      },
      "source": [
        "text"
      ],
      "execution_count": 36,
      "outputs": [
        {
          "output_type": "execute_result",
          "data": {
            "text/plain": [
              "'Automatic summarization is the process of shortening a set of data computationally, to create a subset (a summary) that represents the most important or relevant information within the original content.\\n\\nIn addition to text, images and videos can also be summarized. Text summarization finds the most informative sentences in a document;[1] various methods of image summarization are the subject of ongoing research, with some looking to display the most representative images from a given collection or generating a video;[2][3][4] video summarization extracts the most important frames from the video content.[5]\\n\\nThere are two general approaches to automatic summarization: extraction and abstraction.\\n\\nHere, content is extracted from the original data, but the extracted content is not modified in any way. Examples of extracted content include key-phrases that can be used to \"tag\" or index a text document, or key sentences (including headings) that collectively comprise an abstract, and representative images or video segments, as stated above. For text, extraction is analogous to the process of skimming, where the summary (if available), headings and subheadings, figures, the first and last paragraphs of a section, and optionally the first and last sentences in a paragraph are read before one chooses to read the entire document in detail.[7] Other examples of extraction that include key sequences of text in terms of clinical relevance (including patient/problem, intervention, and outcome).[8]\\n\\nAbstractive summarization methods generate new text that did not exist in the original text.[9] This has been applied mainly for text. Abstractive methods build an internal semantic representation of the original content (often called a language model), and then use this representation to create a summary that is closer to what a human might express. Abstraction may transform the extracted content by paraphrasing sections of the source document, to condense a text more strongly than extraction. Such transformation, however, is computationally much more challenging than extraction, involving both natural language processing and often a deep understanding of the domain of the original text in cases where the original document relates to a special field of knowledge. \"Paraphrasing\" is even more difficult to apply to image and video, which is why most summarization systems are extractive.\\n\\nApproaches aimed at higher summarization quality rely on combined software and human effort. In Machine Aided Human Summarization, extractive techniques highlight candidate passages for inclusion (to which the human adds or removes text). In Human Aided Machine Summarization, a human post-processes software output, in the same way that one edits the output of automatic translation by Google Translate.\\n\\nThere are broadly two types of extractive summarization tasks depending on what the summarization program focuses on. The first is generic summarization, which focuses on obtaining a generic summary or abstract of the collection (whether documents, or sets of images, or videos, news stories etc.). The second is query relevant summarization, sometimes called query-based summarization, which summarizes objects specific to a query. Summarization systems are able to create both query relevant text summaries and generic machine-generated summaries depending on what the user needs.\\n\\nAn example of a summarization problem is document summarization, which attempts to automatically produce an abstract from a given document. Sometimes one might be interested in generating a summary from a single source document, while others can use multiple source documents (for example, a cluster of articles on the same topic). This problem is called multi-document summarization. A related application is summarizing news articles. Imagine a system, which automatically pulls together news articles on a given topic (from the web), and concisely represents the latest news as a summary.\\n\\nImage collection summarization is another application example of automatic summarization. It consists in selecting a representative set of images from a larger set of images.[10] A summary in this context is useful to show the most representative images of results in an image collection exploration system. Video summarization is a related domain, where the system automatically creates a trailer of a long video. This also has applications in consumer or personal videos, where one might want to skip the boring or repetitive actions. Similarly, in surveillance videos, one would want to extract important and suspicious activity, while ignoring all the boring and redundant frames captured.\\n\\nAt a very high level, summarization algorithms try to find subsets of objects (like set of sentences, or a set of images), which cover information of the entire set. This is also called the core-set. These algorithms model notions like diversity, coverage, information and representativeness of the summary. Query based summarization techniques, additionally model for relevance of the summary with the query. Some techniques and algorithms which naturally model summarization problems are TextRank and PageRank, Submodular set function, Determinantal point process, maximal marginal relevance (MMR) etc.\\n\\nThe task is the following. You are given a piece of text, such as a journal article, and you must produce a list of keywords or key[phrase]s that capture the primary topics discussed in the text.[11] In the case of research articles, many authors provide manually assigned keywords, but most text lacks pre-existing keyphrases. For example, news articles rarely have keyphrases attached, but it would be useful to be able to automatically do so for a number of applications discussed below. Consider the example text from a news article:\\n\\nA keyphrase extractor might select \"Army Corps of Engineers\", \"President Bush\", \"New Orleans\", and \"defective flood-control pumps\" as keyphrases. These are pulled directly from the text. In contrast, an abstractive keyphrase system would somehow internalize the content and generate keyphrases that do not appear in the text, but more closely resemble what a human might produce, such as \"political negligence\" or \"inadequate protection from floods\". Abstraction requires a deep understanding of the text, which makes it difficult for a computer system. Keyphrases have many applications. They can enable document browsing by providing a short summary, improve information retrieval (if documents have keyphrases assigned, a user could search by keyphrase to produce more reliable hits than a full-text search), and be employed in generating index entries for a large text corpus.\\n\\nDepending on the different literature and the definition of key terms, words or phrases, keyword extraction is a highly related theme.\\n\\nBeginning with the work of Turney,[12] many researchers have approached keyphrase extraction as a supervised machine learning problem. Given a document, we construct an example for each unigram, bigram, and trigram found in the text (though other text units are also possible, as discussed below). We then compute various features describing each example (e.g., does the phrase begin with an upper-case letter?). We assume there are known keyphrases available for a set of training documents. Using the known keyphrases, we can assign positive or negative labels to the examples. Then we learn a classifier that can discriminate between positive and negative examples as a function of the features. Some classifiers make a binary classification for a test example, while others assign a probability of being a keyphrase. For instance, in the above text, we might learn a rule that says phrases with initial capital letters are likely to be keyphrases. After training a learner, we can select keyphrases for test documents in the following manner. We apply the same example-generation strategy to the test documents, then run each example through the learner. We can determine the keyphrases by looking at binary classification decisions or probabilities returned from our learned model. If probabilities are given, a threshold is used to select the keyphrases. Keyphrase extractors are generally evaluated using precision and recall. Precision measures how many of the proposed keyphrases are actually correct. Recall measures how many of the true keyphrases your system proposed. The two measures can be combined in an F-score, which is the harmonic mean of the two (F = 2PR/(P + R) ). Matches between the proposed keyphrases and the known keyphrases can be checked after stemming or applying some other text normalization.\\n\\nDesigning a supervised keyphrase extraction system involves deciding on several choices (some of these apply to unsupervised, too). The first choice is exactly how to generate examples. Turney and others have used all possible unigrams, bigrams, and trigrams without intervening punctuation and after removing stopwords. Hulth showed that you can get some improvement by selecting examples to be sequences of tokens that match certain patterns of part-of-speech tags. Ideally, the mechanism for generating examples produces all the known labeled keyphrases as candidates, though this is often not the case. For example, if we use only unigrams, bigrams, and trigrams, then we will never be able to extract a known keyphrase containing four words. Thus, recall may suffer. However, generating too many examples can also lead to low precision.\\n\\nWe also need to create features that describe the examples and are informative enough to allow a learning algorithm to discriminate keyphrases from non- keyphrases. Typically features involve various term frequencies (how many times a phrase appears in the current text or in a larger corpus), the length of the example, relative position of the first occurrence, various boolean syntactic features (e.g., contains all caps), etc. The Turney paper used about 12 such features. Hulth uses a reduced set of features, which were found most successful in the KEA (Keyphrase Extraction Algorithm) work derived from Turney\\'s seminal paper.\\n\\nIn the end, the system will need to return a list of keyphrases for a test document, so we need to have a way to limit the number. Ensemble methods (i.e., using votes from several classifiers) have been used to produce numeric scores that can be thresholded to provide a user-provided number of keyphrases. This is the technique used by Turney with C4.5 decision trees. Hulth used a single binary classifier so the learning algorithm implicitly determines the appropriate number.\\n\\nOnce examples and features are created, we need a way to learn to predict keyphrases. Virtually any supervised learning algorithm could be used, such as decision trees, Naive Bayes, and rule induction. In the case of Turney\\'s GenEx algorithm, a genetic algorithm is used to learn parameters for a domain-specific keyphrase extraction algorithm. The extractor follows a series of heuristics to identify keyphrases. The genetic algorithm optimizes parameters for these heuristics with respect to performance on training documents with known key phrases.\\n\\nAnother keyphrase extraction algorithm is TextRank. While supervised methods have some nice properties, like being able to produce interpretable rules for what features characterize a keyphrase, they also require a large amount of training data. Many documents with known keyphrases are needed. Furthermore, training on a specific domain tends to customize the extraction process to that domain, so the resulting classifier is not necessarily portable, as some of Turney\\'s results demonstrate. Unsupervised keyphrase extraction removes the need for training data. It approaches the problem from a different angle. Instead of trying to learn explicit features that characterize keyphrases, the TextRank algorithm[13] exploits the structure of the text itself to determine keyphrases that appear \"central\" to the text in the same way that PageRank selects important Web pages. Recall this is based on the notion of \"prestige\" or \"recommendation\" from social networks. In this way, TextRank does not rely on any previous training data at all, but rather can be run on any arbitrary piece of text, and it can produce output simply based on the text\\'s intrinsic properties. Thus the algorithm is easily portable to new domains and languages.\\n\\nTextRank is a general purpose graph-based ranking algorithm for NLP. Essentially, it runs PageRank on a graph specially designed for a particular NLP task. For keyphrase extraction, it builds a graph using some set of text units as vertices. Edges are based on some measure of semantic or lexical similarity between the text unit vertices. Unlike PageRank, the edges are typically undirected and can be weighted to reflect a degree of similarity. Once the graph is constructed, it is used to form a stochastic matrix, combined with a damping factor (as in the \"random surfer model\"), and the ranking over vertices is obtained by finding the eigenvector corresponding to eigenvalue 1 (i.e., the stationary distribution of the random walk on the graph).\\n\\nThe vertices should correspond to what we want to rank. Potentially, we could do something similar to the supervised methods and create a vertex for each unigram, bigram, trigram, etc. However, to keep the graph small, the authors decide to rank individual unigrams in a first step, and then include a second step that merges highly ranked adjacent unigrams to form multi-word phrases. This has a nice side effect of allowing us to produce keyphrases of arbitrary length. For example, if we rank unigrams and find that \"advanced\", \"natural\", \"language\", and \"processing\" all get high ranks, then we would look at the original text and see that these words appear consecutively and create a final keyphrase using all four together. Note that the unigrams placed in the graph can be filtered by part of speech. The authors found that adjectives and nouns were the best to include. Thus, some linguistic knowledge comes into play in this step.\\n\\nEdges are created based on word co-occurrence in this application of TextRank. Two vertices are connected by an edge if the unigrams appear within a window of size N in the original text. N is typically around 2–10. Thus, \"natural\" and \"language\" might be linked in a text about NLP. \"Natural\" and \"processing\" would also be linked because they would both appear in the same string of N words. These edges build on the notion of \"text cohesion\" and the idea that words that appear near each other are likely related in a meaningful way and \"recommend\" each other to the reader.\\n\\nSince this method simply ranks the individual vertices, we need a way to threshold or produce a limited number of keyphrases. The technique chosen is to set a count T to be a user-specified fraction of the total number of vertices in the graph. Then the top T vertices/unigrams are selected based on their stationary probabilities. A post- processing step is then applied to merge adjacent instances of these T unigrams. As a result, potentially more or less than T final keyphrases will be produced, but the number should be roughly proportional to the length of the original text.\\n\\nIt is not initially clear why applying PageRank to a co-occurrence graph would produce useful keyphrases. One way to think about it is the following. A word that appears multiple times throughout a text may have many different co-occurring neighbors. For example, in a text about machine learning, the unigram \"learning\" might co-occur with \"machine\", \"supervised\", \"un-supervised\", and \"semi-supervised\" in four different sentences. Thus, the \"learning\" vertex would be a central \"hub\" that connects to these other modifying words. Running PageRank/TextRank on the graph is likely to rank \"learning\" highly. Similarly, if the text contains the phrase \"supervised classification\", then there would be an edge between \"supervised\" and \"classification\". If \"classification\" appears several other places and thus has many neighbors, its importance would contribute to the importance of \"supervised\". If it ends up with a high rank, it will be selected as one of the top T unigrams, along with \"learning\" and probably \"classification\". In the final post-processing step, we would then end up with keyphrases \"supervised learning\" and \"supervised classification\".\\n\\nIn short, the co-occurrence graph will contain densely connected regions for terms that appear often and in different contexts. A random walk on this graph will have a stationary distribution that assigns large probabilities to the terms in the centers of the clusters. This is similar to densely connected Web pages getting ranked highly by PageRank. This approach has also been used in document summarization, considered below.\\n\\nLike keyphrase extraction, document summarization aims to identify the essence of a text. The only real difference is that now we are dealing with larger text units—whole sentences instead of words and phrases.\\n\\nBefore getting into the details of some summarization methods, we will mention how summarization systems are typically evaluated. The most common way is using the so-called ROUGE (Recall-Oriented Understudy for Gisting Evaluation) measure. This is a recall-based measure that determines how well a system-generated summary covers the content present in one or more human-generated model summaries known as references. It is recall-based to encourage systems to include all the important topics in the text. Recall can be computed with respect to unigram, bigram, trigram, or 4-gram matching. For example, ROUGE-1 is computed as division of count of unigrams in reference that appear in system and count of unigrams in reference summary.\\n\\nIf there are multiple references, the ROUGE-1 scores are averaged. Because ROUGE is based only on content overlap, it can determine if the same general concepts are discussed between an automatic summary and a reference summary, but it cannot determine if the result is coherent or the sentences flow together in a sensible manner. High-order n-gram ROUGE measures try to judge fluency to some degree. Note that ROUGE is similar to the BLEU measure for machine translation, but BLEU is precision- based, because translation systems favor accuracy.\\n\\nA promising line in document summarization is adaptive document/text summarization.[14] The idea of adaptive summarization involves preliminary recognition of document/text genre and subsequent application of summarization algorithms optimized for this genre. First summarizes that perform adaptive summarization have been created.[15]\\n\\nSupervised text summarization is very much like supervised keyphrase extraction. Basically, if you have a collection of documents and human-generated summaries for them, you can learn features of sentences that make them good candidates for inclusion in the summary. Features might include the position in the document (i.e., the first few sentences are probably important), the number of words in the sentence, etc. The main difficulty in supervised extractive summarization is that the known summaries must be manually created by extracting sentences so the sentences in an original training document can be labeled as \"in summary\" or \"not in summary\". This is not typically how people create summaries, so simply using journal abstracts or existing summaries is usually not sufficient. The sentences in these summaries do not necessarily match up with sentences in the original text, so it would be difficult to assign labels to examples for training. Note, however, that these natural summaries can still be used for evaluation purposes, since ROUGE-1 only cares about unigrams.\\n\\nDuring the DUC 2001 and 2002 evaluation workshops, TNO developed a sentence extraction system for multi-document summarization in the news domain. The system was based on a hybrid system using a naive Bayes classifier and statistical language models for modeling salience. Although the system exhibited good results, the researchers wanted to explore the effectiveness of a maximum entropy (ME) classifier for the meeting summarization task, as ME is known to be robust against feature dependencies. Maximum entropy has also been applied successfully for summarization in the broadcast news domain.\\n\\nThe unsupervised approach to summarization is also quite similar in spirit to unsupervised keyphrase extraction and gets around the issue of costly training data. Some unsupervised summarization approaches are based on finding a \"centroid\" sentence, which is the mean word vector of all the sentences in the document. Then the sentences can be ranked with regard to their similarity to this centroid sentence.\\n\\nA more principled way to estimate sentence importance is using random walks and eigenvector centrality. LexRank[16] is an algorithm essentially identical to TextRank, and both use this approach for document summarization. The two methods were developed by different groups at the same time, and LexRank simply focused on summarization, but could just as easily be used for keyphrase extraction or any other NLP ranking task.\\n\\nIn both LexRank and TextRank, a graph is constructed by creating a vertex for each sentence in the document.\\n\\nThe edges between sentences are based on some form of semantic similarity or content overlap. While LexRank uses cosine similarity of TF-IDF vectors, TextRank uses a very similar measure based on the number of words two sentences have in common (normalized by the sentences\\' lengths). The LexRank paper explored using unweighted edges after applying a threshold to the cosine values, but also experimented with using edges with weights equal to the similarity score. TextRank uses continuous similarity scores as weights.\\n\\nIn both algorithms, the sentences are ranked by applying PageRank to the resulting graph. A summary is formed by combining the top ranking sentences, using a threshold or length cutoff to limit the size of the summary.\\n\\nIt is worth noting that TextRank was applied to summarization exactly as described here, while LexRank was used as part of a larger summarization system (MEAD) that combines the LexRank score (stationary probability) with other features like sentence position and length using a linear combination with either user-specified or automatically tuned weights. In this case, some training documents might be needed, though the TextRank results show the additional features are not absolutely necessary.\\n\\nAnother important distinction is that TextRank was used for single document summarization, while LexRank has been applied to multi-document summarization. The task remains the same in both cases—only the number of sentences to choose from has grown. However, when summarizing multiple documents, there is a greater risk of selecting duplicate or highly redundant sentences to place in the same summary. Imagine you have a cluster of news articles on a particular event, and you want to produce one summary. Each article is likely to have many similar sentences, and you would only want to include distinct ideas in the summary. To address this issue, LexRank applies a heuristic post-processing step that builds up a summary by adding sentences in rank order, but discards any sentences that are too similar to ones already placed in the summary. The method used is called Cross-Sentence Information Subsumption (CSIS).\\n\\nThese methods work based on the idea that sentences \"recommend\" other similar sentences to the reader. Thus, if one sentence is very similar to many others, it will likely be a sentence of great importance. The importance of this sentence also stems from the importance of the sentences \"recommending\" it. Thus, to get ranked highly and placed in a summary, a sentence must be similar to many sentences that are in turn also similar to many other sentences. This makes intuitive sense and allows the algorithms to be applied to any arbitrary new text. The methods are domain-independent and easily portable. One could imagine the features indicating important sentences in the news domain might vary considerably from the biomedical domain. However, the unsupervised \"recommendation\"-based approach applies to any domain.\\n\\nMulti-document summarization is an automatic procedure aimed at extraction of information from multiple texts written about the same topic. Resulting summary report allows individual users, such as professional information consumers, to quickly familiarize themselves with information contained in a large cluster of documents. In such a way, multi-document summarization systems are complementing the news aggregators performing the next step down the road of coping with information overload. Multi-document summarization may also be done in response to a question.[17][8]\\n\\nMulti-document summarization creates information reports that are both concise and comprehensive. With different opinions being put together and outlined, every topic is described from multiple perspectives within a single document. While the goal of a brief summary is to simplify information search and cut the time by pointing to the most relevant source documents, comprehensive multi-document summary should itself contain the required information, hence limiting the need for accessing original files to cases when refinement is required. Automatic summaries present information extracted from multiple sources algorithmically, without any editorial touch or subjective human intervention, thus making it completely unbiased.[dubious – discuss]\\n\\nMulti-document extractive summarization faces a problem of potential redundancy. Ideally, we would like to extract sentences that are both \"central\" (i.e., contain the main ideas) and \"diverse\" (i.e., they differ from one another). LexRank deals with diversity as a heuristic final stage using CSIS, and other systems have used similar methods, such as Maximal Marginal Relevance (MMR),[18] in trying to eliminate redundancy in information retrieval results. There is a general purpose graph-based ranking algorithm like Page/Lex/TextRank that handles both \"centrality\" and \"diversity\" in a unified mathematical framework based on absorbing Markov chain random walks. (An absorbing random walk is like a standard random walk, except some states are now absorbing states that act as \"black holes\" that cause the walk to end abruptly at that state.) The algorithm is called GRASSHOPPER.[19] In addition to explicitly promoting diversity during the ranking process, GRASSHOPPER incorporates a prior ranking (based on sentence position in the case of summarization).\\n\\nThe state of the art results for multi-document summarization, however, are obtained using mixtures of submodular functions. These methods have achieved the state of the art results for Document Summarization Corpora, DUC 04 - 07.[20] Similar results were also achieved with the use of determinantal point processes (which are a special case of submodular functions) for DUC-04.[21]\\n\\nA new method for multi-lingual multi-document summarization that avoids redundancy works by simplifying and generating ideograms that represent the meaning of each sentence in each document and then evaluates similarity \"qualitatively\" by comparing the shape and position of said ideograms has recently been developed. This tool does not use word frequency, does not need training or preprocessing of any kind and works by generating ideograms that represent the meaning of each sentence and then summarizes using two user-supplied parameters: equivalence (when are two sentences to be considered equivalent) and relevance (how long is the desired summary).\\n\\nThe idea of a submodular set function has recently emerged as a powerful modeling tool for various summarization problems. Submodular functions naturally model notions of coverage, information, representation and diversity. Moreover, several important combinatorial optimization problems occur as special instances of submodular optimization. For example, the set cover problem is a special case of submodular optimization, since the set cover function is submodular. The set cover function attempts to find a subset of objects which cover a given set of concepts. For example, in document summarization, one would like the summary to cover all important and relevant concepts in the document. This is an instance of set cover. Similarly, the facility location problem is a special case of submodular functions. The Facility Location function also naturally models coverage and diversity. Another example of a submodular optimization problem is using a determinantal point process to model diversity. Similarly, the Maximum-Marginal-Relevance procedure can also be seen as an instance of submodular optimization. All these important models encouraging coverage, diversity and information are all submodular. Moreover, submodular functions can be efficiently combined, and the resulting function is still submodular. Hence, one could combine one submodular function which models diversity, another one which models coverage and use human supervision to learn a right model of a submodular function for the problem.\\n\\nWhile submodular functions are fitting problems for summarization, they also admit very efficient algorithms for optimization. For example, a simple greedy algorithm admits a constant factor guarantee.[22] Moreover, the greedy algorithm is extremely simple to implement and can scale to large datasets, which is very important for summarization problems.\\n\\nSubmodular functions have achieved state-of-the-art for almost all summarization problems. For example, work by Lin and Bilmes, 2012[23] shows that submodular functions achieve the best results to date on DUC-04, DUC-05, DUC-06 and DUC-07 systems for document summarization. Similarly, work by Lin and Bilmes, 2011,[24] shows that many existing systems for automatic summarization are instances of submodular functions. This was a breakthrough result establishing submodular functions as the right models for summarization problems.[citation needed]\\n\\nSubmodular Functions have also been used for other summarization tasks. Tschiatschek et al., 2014 show[25] that mixtures of submodular functions achieve state-of-the-art results for image collection summarization. Similarly, Bairi et al., 2015[26] show the utility of submodular functions for summarizing multi-document topic hierarchies. Submodular Functions have also successfully been used for summarizing machine learning datasets.[27]\\n• The Reddit bot \"autotldr\",[28] created in 2011 summarizes news articles in the comment-section of reddit posts. It was found to be very useful by the reddit community which upvoted its summaries hundreds of thousands of times.[29] The name is reference to TL;DR − Internet slang for \"too long; didn\\'t read\".[30][31]\\n\\nThe most common way to evaluate the informativeness of automatic summaries is to compare them with human-made model summaries.\\n\\nEvaluation techniques fall into intrinsic and extrinsic,[32] inter-textual and intra-textual.[33]\\n\\nAn intrinsic evaluation tests the summarization system in and of itself while an extrinsic evaluation tests the summarization based on how it affects the completion of some other task. Intrinsic evaluations have assessed mainly the coherence and informativeness of summaries. Extrinsic evaluations, on the other hand, have tested the impact of summarization on tasks like relevance assessment, reading comprehension, etc.\\n\\nIntra-textual methods assess the output of a specific summarization system, and the inter-textual ones focus on contrastive analysis of outputs of several summarization systems.\\n\\nHuman judgement often has wide variance on what is considered a \"good\" summary, which means that making the evaluation process automatic is particularly difficult. Manual evaluation can be used, but this is both time and labor-intensive as it requires humans to read not only the summaries but also the source documents. Other issues are those concerning coherence and coverage.\\n\\nOne of the metrics used in NIST\\'s annual Document Understanding Conferences, in which research groups submit their systems for both summarization and translation tasks, is the ROUGE metric (Recall-Oriented Understudy for Gisting Evaluation [2]). It essentially calculates n-gram overlaps between automatically generated summaries and previously written human summaries. A high level of overlap should indicate a high level of shared concepts between the two summaries. Note that overlap metrics like this are unable to provide any feedback on a summary\\'s coherence. Anaphor resolution remains another problem yet to be fully solved. Similarly, for image summarization, Tschiatschek et al., developed a Visual-ROUGE score which judges the performance of algorithms for image summarization.[34]\\n\\nDomain independent summarization techniques generally apply sets of general features which can be used to identify information-rich text segments. Recent research focus has drifted to domain-specific summarization techniques that utilize the available knowledge specific to the domain of text. For example, automatic summarization research on medical text generally attempts to utilize the various sources of codified medical knowledge and ontologies.[35]\\n\\nThe main drawback of the evaluation systems existing so far is that we need at least one reference summary, and for some methods more than one, to be able to compare automatic summaries with models. This is a hard and expensive task. Much effort has to be done in order to have corpus of texts and their corresponding summaries. Furthermore, for some methods, not only do we need to have human-made summaries available for comparison, but also manual annotation has to be performed in some of them (e.g. SCU in the Pyramid Method). In any case, what the evaluation methods need as an input, is a set of summaries to serve as gold standards and a set of automatic summaries. Moreover, they all perform a quantitative evaluation with regard to different similarity metrics.\\n\\nThe first publication in the area dates back to 1957 [36] (Hans Peter Luhn), starting with a statistical technique. Research increased significantly in 2015. Term frequency–inverse document frequency had been used by 2016. Pattern-based summarization was the most powerful option for multi-document summarization found by 2016. In the following year it was surpassed by latent semantic analysis (LSA) combined with non-negative matrix factorization (NMF). Although they did not replace other approaches and are often combined with them, by 2019 machine learning methods dominated the extractive summarization of single documents, which was considered to be nearing maturity. By 2020, the field was still very active and research is shifting towards abstractive summation and real-time summarization.[37]\\n\\nRecently the rise of Transformer models replacing more traditional RNN (LSTM) have provided a flexibility in the mapping of text sequences to text sequences of a different type, which is well suited to automatic summarization. This includes models such as T5[38] and Pegasus.\\n• None Roxana, Angheluta (2002). The Use of Topic Segmentation for Automatic Summarization.\\n• None Elena, Lloret and Manuel, Palomar (2009). Challenging Issues of Automatic Summarization: Relevance Detection and Quality-based Evaluation.\\n• None Alrehamy, Hassan (2017). \"SemCluster: Unsupervised Automatic Keyphrase Extraction Using Affinity Propagation\". Automatic Keyphrases Extraction. Advances in Intelligent Systems and Computing. Vol. 650. pp. 222–235. doi:10.1007/978-3-319-66939-7_19. ISBN .\\n• None Marcu, Daniel (2000). The Theory and Practice of Discourse Parsing and Summarization. ISBN .\\n• , Published in Proceeding RIAO\\'10 Adaptivity, Personalization and Fusion of Heterogeneous Information, CID Paris, France\\n• None Xiaojin, Zhu, Andrew Goldberg, Jurgen Van Gael, and David Andrzejewski (2007). Improving diversity in ranking using absorbing random walks . , The GRASSHOPPER algorithm\\n• None Miranda-Jiménez, Sabino, Gelbukh, Alexander, and Sidorov, Grigori (2013). \"Summarizing Conceptual Graphs for Automatic Summarization Task\". Conceptual Structures for STEM Research and Education. Lecture Notes in Computer Science. Vol. 7735. pp. 245–253. doi:10.1007/978-3-642-35786-2_18. ISBN . , Conceptual Structures for STEM Research and Education.'"
            ],
            "application/vnd.google.colaboratory.intrinsic+json": {
              "type": "string"
            }
          },
          "metadata": {},
          "execution_count": 36
        }
      ]
    },
    {
      "cell_type": "code",
      "metadata": {
        "colab": {
          "base_uri": "https://localhost:8080/",
          "height": 325
        },
        "id": "vgbCw6Y8_A8z",
        "outputId": "3411fcd6-41f6-4f55-caff-bcc18b98342c"
      },
      "source": [
        "SUMMARIZE_WITH_FBA(text)"
      ],
      "execution_count": 37,
      "outputs": [
        {
          "output_type": "display_data",
          "data": {
            "text/plain": [
              "<IPython.core.display.HTML object>"
            ],
            "text/html": [
              "<h2><i>Summary:</i></h2> Text summarization finds the most informative sentences in a document;[1] various methods of image summarization are the subject of ongoing research, with some looking to display the most representative images from a given collection or generating a video;[2][3][4] video summarization extracts the most important frames from the video content. An example of a summarization problem is document summarization, which attempts to automatically produce an abstract from a given document. They can enable document browsing by providing a short summary, improve information retrieval (if documents have keyphrases assigned, a user could search by keyphrase to produce more reliable hits than a full-text search), and be employed in generating index entries for a large text corpus. Instead of trying to learn explicit features that characterize keyphrases, the TextRank algorithm[13] exploits the structure of the text itself to determine keyphrases that appear \"central\" to the text in the same way that PageRank selects important Web pages. The main difficulty in supervised extractive summarization is that the known summaries must be manually created by extracting sentences so the sentences in an original training document can be labeled as \"in summary\" or \"not in summary\". It is worth noting that TextRank was applied to summarization exactly as described here, while LexRank was used as part of a larger summarization system (MEAD) that combines the LexRank score (stationary probability) with other features like sentence position and length using a linear combination with either user-specified or automatically tuned weights. Another important distinction is that TextRank was used for single document summarization, while LexRank has been applied to multi-document summarization. For example, in document summarization, one would like the summary to cover all important and relevant concepts in the document. [33]An intrinsic evaluation tests the summarization system in and of itself while an extrinsic evaluation tests the summarization based on how it affects the completion of some other task."
            ]
          },
          "metadata": {}
        }
      ]
    },
    {
      "cell_type": "code",
      "metadata": {
        "id": "wd97k4H__O4H"
      },
      "source": [],
      "execution_count": null,
      "outputs": []
    }
  ]
}